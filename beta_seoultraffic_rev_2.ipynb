{
 "cells": [
  {
   "cell_type": "markdown",
   "id": "f0c86f16",
   "metadata": {},
   "source": [
    "# 수정사항\n",
    "* 계산식을 코드로 바로 입력\n",
    "* Nan data table 수정\n",
    "* 추가데이터와 비교 (ex. 3월, 12월 \\\n",
    "             코로나 확진자 증가, 거리두기 단계 변화와 비교 )\n",
    "* plot -> pointplot 로 변경\n",
    "* heatmap(corr)\n",
    "    *시간 -> 지역\n",
    "    *요일 -> 월~일\n",
    "    ----------------------------------\n",
    "*ppt 제작\n",
    "*"
   ]
  },
  {
   "cell_type": "markdown",
   "id": "a9eacfa3",
   "metadata": {},
   "source": [
    "- 주제 선정 동기, 개요, 목적등\n",
    " * 대중교통이 감소하였고, 그럼 일반 자동차 통행량이 증가하였을까?\n",
    "    \n",
    "\n",
    "- 데이터 수집 방법\n",
    "\n",
    "- 데이터 처리 및 분석\n",
    "\n",
    "    - 분석 방법 : 빈도분석, 기술통계분석, 상관계수분석.\n",
    "\n",
    "    가설 1\n",
    "    데이터 설명 및 인사이트 도출 과정 (아주 간단히) 및 시각화\n",
    "    결론 1\n",
    "\n",
    "    가설 2\n",
    "    데이터 설명 및 인사이트 도출 과정 (아주 간단히) 및 시각화\n",
    "    결론 2\n",
    "\n",
    "    …\n",
    "\n",
    "- 추후 개선 및 느낀점"
   ]
  },
  {
   "cell_type": "code",
   "execution_count": 2,
   "id": "17efb717",
   "metadata": {},
   "outputs": [
    {
     "data": {
      "text/plain": [
       "'/Users/ijiyeong/Downloads'"
      ]
     },
     "execution_count": 2,
     "metadata": {},
     "output_type": "execute_result"
    }
   ],
   "source": [
    "pwd"
   ]
  },
  {
   "cell_type": "code",
   "execution_count": 3,
   "id": "30efd890",
   "metadata": {},
   "outputs": [
    {
     "name": "stdout",
     "output_type": "stream",
     "text": [
      "/Users/ijiyeong\n"
     ]
    }
   ],
   "source": [
    "%cd"
   ]
  },
  {
   "cell_type": "code",
   "execution_count": 4,
   "id": "f1e5ec27",
   "metadata": {},
   "outputs": [
    {
     "name": "stdout",
     "output_type": "stream",
     "text": [
      "/Users/ijiyeong/seoultraffic\n"
     ]
    }
   ],
   "source": [
    "%cd seoultraffic/"
   ]
  },
  {
   "cell_type": "code",
   "execution_count": 5,
   "id": "facbc614",
   "metadata": {},
   "outputs": [],
   "source": [
    "import pandas as pd\n",
    "import numpy as np\n",
    "import matplotlib.pyplot as plt\n",
    "import matplotlib\n",
    "from matplotlib import pyplot\n",
    "import seaborn as sns\n",
    "import matplotlib.font_manager as fm\n",
    "import missingno as msno #결측데이터 검색\n",
    "%matplotlib inline\n",
    "%config InlineBackend.figure_formats = {'png', 'retina'}"
   ]
  },
  {
   "cell_type": "code",
   "execution_count": 6,
   "id": "bce5fbd6",
   "metadata": {},
   "outputs": [],
   "source": [
    "# 폰트설정\n",
    "from matplotlib import font_manager\n",
    "plt.rcParams[\"font.family\"] = 'NanumGothicCoding'\n",
    "from matplotlib import rc\n",
    "rc('font', family=\"Arial Unicode MS\")"
   ]
  },
  {
   "cell_type": "code",
   "execution_count": 7,
   "id": "9e1849df",
   "metadata": {},
   "outputs": [],
   "source": [
    "### 2019 pub_transpor data road\n",
    "df1 = pd.read_csv(\"2019.csv\")\n",
    "### 2020 pub_transpor data road\n",
    "df2 = pd.read_csv(\"2020.csv\")\n",
    "### 2019 Traffic data road\n",
    "#df_2019_url = './data_2019_seoultraffic.csv'\n",
    "### 2019 Traffic data road\n",
    "#df_2020_url = './data_2020_seoultraffic.csv'"
   ]
  },
  {
   "cell_type": "code",
   "execution_count": 210,
   "id": "02e1579c",
   "metadata": {},
   "outputs": [],
   "source": [
    "ddf1 = pd.read_csv(\"data_2019_seoultraffic.csv\")\n",
    "ddf2 = pd.read_csv(\"data_2020_seoultraffic.csv\")"
   ]
  },
  {
   "cell_type": "markdown",
   "id": "18f1d52a",
   "metadata": {},
   "source": [
    "### Pub_transpor data 2019"
   ]
  },
  {
   "cell_type": "code",
   "execution_count": 408,
   "id": "02eb8594",
   "metadata": {},
   "outputs": [
    {
     "data": {
      "text/html": [
       "<div>\n",
       "<style scoped>\n",
       "    .dataframe tbody tr th:only-of-type {\n",
       "        vertical-align: middle;\n",
       "    }\n",
       "\n",
       "    .dataframe tbody tr th {\n",
       "        vertical-align: top;\n",
       "    }\n",
       "\n",
       "    .dataframe thead th {\n",
       "        text-align: right;\n",
       "    }\n",
       "</style>\n",
       "<table border=\"1\" class=\"dataframe\">\n",
       "  <thead>\n",
       "    <tr style=\"text-align: right;\">\n",
       "      <th></th>\n",
       "      <th>total</th>\n",
       "    </tr>\n",
       "    <tr>\n",
       "      <th>month</th>\n",
       "      <th></th>\n",
       "    </tr>\n",
       "  </thead>\n",
       "  <tbody>\n",
       "    <tr>\n",
       "      <th>11</th>\n",
       "      <td>72354.783704</td>\n",
       "    </tr>\n",
       "    <tr>\n",
       "      <th>12</th>\n",
       "      <td>71778.392115</td>\n",
       "    </tr>\n",
       "  </tbody>\n",
       "</table>\n",
       "</div>"
      ],
      "text/plain": [
       "              total\n",
       "month              \n",
       "11     72354.783704\n",
       "12     71778.392115"
      ]
     },
     "execution_count": 408,
     "metadata": {},
     "output_type": "execute_result"
    }
   ],
   "source": [
    "all_traffic_m_2019 = ddf1.pivot_table(\"total\", \"month\")\n",
    "all_traffic_m_2019.tail(2)"
   ]
  },
  {
   "cell_type": "code",
   "execution_count": 212,
   "id": "1a9eb9d3",
   "metadata": {},
   "outputs": [
    {
     "data": {
      "text/html": [
       "<div>\n",
       "<style scoped>\n",
       "    .dataframe tbody tr th:only-of-type {\n",
       "        vertical-align: middle;\n",
       "    }\n",
       "\n",
       "    .dataframe tbody tr th {\n",
       "        vertical-align: top;\n",
       "    }\n",
       "\n",
       "    .dataframe thead th {\n",
       "        text-align: right;\n",
       "    }\n",
       "</style>\n",
       "<table border=\"1\" class=\"dataframe\">\n",
       "  <thead>\n",
       "    <tr style=\"text-align: right;\">\n",
       "      <th></th>\n",
       "      <th>total</th>\n",
       "    </tr>\n",
       "    <tr>\n",
       "      <th>month</th>\n",
       "      <th></th>\n",
       "    </tr>\n",
       "  </thead>\n",
       "  <tbody>\n",
       "    <tr>\n",
       "      <th>11</th>\n",
       "      <td>72354.783704</td>\n",
       "    </tr>\n",
       "    <tr>\n",
       "      <th>12</th>\n",
       "      <td>71778.392115</td>\n",
       "    </tr>\n",
       "  </tbody>\n",
       "</table>\n",
       "</div>"
      ],
      "text/plain": [
       "              total\n",
       "month              \n",
       "11     72354.783704\n",
       "12     71778.392115"
      ]
     },
     "execution_count": 212,
     "metadata": {},
     "output_type": "execute_result"
    }
   ],
   "source": [
    "all_traffic_m_2019.loc[:, \"total\"] = all_traffic_m_2019.sum(axis=1)\n",
    "all_traffic_m_2019.tail(2)"
   ]
  },
  {
   "cell_type": "code",
   "execution_count": 400,
   "id": "5cad4b5c",
   "metadata": {},
   "outputs": [
    {
     "data": {
      "text/html": [
       "<div>\n",
       "<style scoped>\n",
       "    .dataframe tbody tr th:only-of-type {\n",
       "        vertical-align: middle;\n",
       "    }\n",
       "\n",
       "    .dataframe tbody tr th {\n",
       "        vertical-align: top;\n",
       "    }\n",
       "\n",
       "    .dataframe thead th {\n",
       "        text-align: right;\n",
       "    }\n",
       "</style>\n",
       "<table border=\"1\" class=\"dataframe\">\n",
       "  <thead>\n",
       "    <tr style=\"text-align: right;\">\n",
       "      <th></th>\n",
       "      <th>total</th>\n",
       "    </tr>\n",
       "    <tr>\n",
       "      <th>month</th>\n",
       "      <th></th>\n",
       "    </tr>\n",
       "  </thead>\n",
       "  <tbody>\n",
       "    <tr>\n",
       "      <th>11</th>\n",
       "      <td>65578.097531</td>\n",
       "    </tr>\n",
       "    <tr>\n",
       "      <th>12</th>\n",
       "      <td>59918.407885</td>\n",
       "    </tr>\n",
       "  </tbody>\n",
       "</table>\n",
       "</div>"
      ],
      "text/plain": [
       "              total\n",
       "month              \n",
       "11     65578.097531\n",
       "12     59918.407885"
      ]
     },
     "execution_count": 400,
     "metadata": {},
     "output_type": "execute_result"
    }
   ],
   "source": [
    "all_traffic_m_2020 = ddf2.pivot_table(\"total\", \"month\")\n",
    "all_traffic_m_2020.tail(2)"
   ]
  },
  {
   "cell_type": "code",
   "execution_count": 214,
   "id": "099983f6",
   "metadata": {},
   "outputs": [
    {
     "data": {
      "text/html": [
       "<div>\n",
       "<style scoped>\n",
       "    .dataframe tbody tr th:only-of-type {\n",
       "        vertical-align: middle;\n",
       "    }\n",
       "\n",
       "    .dataframe tbody tr th {\n",
       "        vertical-align: top;\n",
       "    }\n",
       "\n",
       "    .dataframe thead th {\n",
       "        text-align: right;\n",
       "    }\n",
       "</style>\n",
       "<table border=\"1\" class=\"dataframe\">\n",
       "  <thead>\n",
       "    <tr style=\"text-align: right;\">\n",
       "      <th></th>\n",
       "      <th>total</th>\n",
       "      <th>tatal</th>\n",
       "    </tr>\n",
       "    <tr>\n",
       "      <th>month</th>\n",
       "      <th></th>\n",
       "      <th></th>\n",
       "    </tr>\n",
       "  </thead>\n",
       "  <tbody>\n",
       "    <tr>\n",
       "      <th>11</th>\n",
       "      <td>65578.097531</td>\n",
       "      <td>65578.097531</td>\n",
       "    </tr>\n",
       "    <tr>\n",
       "      <th>12</th>\n",
       "      <td>59918.407885</td>\n",
       "      <td>59918.407885</td>\n",
       "    </tr>\n",
       "  </tbody>\n",
       "</table>\n",
       "</div>"
      ],
      "text/plain": [
       "              total         tatal\n",
       "month                            \n",
       "11     65578.097531  65578.097531\n",
       "12     59918.407885  59918.407885"
      ]
     },
     "execution_count": 214,
     "metadata": {},
     "output_type": "execute_result"
    }
   ],
   "source": [
    "all_traffic_m_2020.loc[:, \"tatal\"] = all_traffic_m_2020.sum(axis=1)\n",
    "all_traffic_m_2020.tail(2)"
   ]
  },
  {
   "cell_type": "markdown",
   "id": "d73e0380",
   "metadata": {},
   "source": [
    "### Pub_transpor data 2020"
   ]
  },
  {
   "cell_type": "code",
   "execution_count": 215,
   "id": "c29c5632",
   "metadata": {},
   "outputs": [
    {
     "data": {
      "text/html": [
       "<div>\n",
       "<style scoped>\n",
       "    .dataframe tbody tr th:only-of-type {\n",
       "        vertical-align: middle;\n",
       "    }\n",
       "\n",
       "    .dataframe tbody tr th {\n",
       "        vertical-align: top;\n",
       "    }\n",
       "\n",
       "    .dataframe thead th {\n",
       "        text-align: right;\n",
       "    }\n",
       "</style>\n",
       "<table border=\"1\" class=\"dataframe\">\n",
       "  <thead>\n",
       "    <tr style=\"text-align: right;\">\n",
       "      <th></th>\n",
       "      <th>total</th>\n",
       "    </tr>\n",
       "    <tr>\n",
       "      <th>month</th>\n",
       "      <th></th>\n",
       "    </tr>\n",
       "  </thead>\n",
       "  <tbody>\n",
       "    <tr>\n",
       "      <th>11</th>\n",
       "      <td>293036874</td>\n",
       "    </tr>\n",
       "    <tr>\n",
       "      <th>12</th>\n",
       "      <td>300392571</td>\n",
       "    </tr>\n",
       "  </tbody>\n",
       "</table>\n",
       "</div>"
      ],
      "text/plain": [
       "           total\n",
       "month           \n",
       "11     293036874\n",
       "12     300392571"
      ]
     },
     "execution_count": 215,
     "metadata": {},
     "output_type": "execute_result"
    }
   ],
   "source": [
    "all_traffic_m_2019 = ddf1.pivot_table(\"total\", \"month\", aggfunc=np.sum)\n",
    "all_traffic_m_2019.tail(2)"
   ]
  },
  {
   "cell_type": "code",
   "execution_count": 216,
   "id": "a624417f",
   "metadata": {},
   "outputs": [
    {
     "data": {
      "text/html": [
       "<div>\n",
       "<style scoped>\n",
       "    .dataframe tbody tr th:only-of-type {\n",
       "        vertical-align: middle;\n",
       "    }\n",
       "\n",
       "    .dataframe tbody tr th {\n",
       "        vertical-align: top;\n",
       "    }\n",
       "\n",
       "    .dataframe thead th {\n",
       "        text-align: right;\n",
       "    }\n",
       "</style>\n",
       "<table border=\"1\" class=\"dataframe\">\n",
       "  <thead>\n",
       "    <tr style=\"text-align: right;\">\n",
       "      <th></th>\n",
       "      <th>total</th>\n",
       "    </tr>\n",
       "    <tr>\n",
       "      <th>month</th>\n",
       "      <th></th>\n",
       "    </tr>\n",
       "  </thead>\n",
       "  <tbody>\n",
       "    <tr>\n",
       "      <th>11</th>\n",
       "      <td>265591295</td>\n",
       "    </tr>\n",
       "    <tr>\n",
       "      <th>12</th>\n",
       "      <td>250758537</td>\n",
       "    </tr>\n",
       "  </tbody>\n",
       "</table>\n",
       "</div>"
      ],
      "text/plain": [
       "           total\n",
       "month           \n",
       "11     265591295\n",
       "12     250758537"
      ]
     },
     "execution_count": 216,
     "metadata": {},
     "output_type": "execute_result"
    }
   ],
   "source": [
    "all_traffic_m_2020 = ddf2.pivot_table(\"total\", \"month\", aggfunc=np.sum)\n",
    "all_traffic_m_2020.tail(2)"
   ]
  },
  {
   "cell_type": "code",
   "execution_count": 217,
   "id": "3db13edf",
   "metadata": {},
   "outputs": [
    {
     "data": {
      "text/html": [
       "<div>\n",
       "<style scoped>\n",
       "    .dataframe tbody tr th:only-of-type {\n",
       "        vertical-align: middle;\n",
       "    }\n",
       "\n",
       "    .dataframe tbody tr th {\n",
       "        vertical-align: top;\n",
       "    }\n",
       "\n",
       "    .dataframe thead th {\n",
       "        text-align: right;\n",
       "    }\n",
       "</style>\n",
       "<table border=\"1\" class=\"dataframe\">\n",
       "  <thead>\n",
       "    <tr style=\"text-align: right;\">\n",
       "      <th></th>\n",
       "      <th>total</th>\n",
       "    </tr>\n",
       "    <tr>\n",
       "      <th>구</th>\n",
       "      <th></th>\n",
       "    </tr>\n",
       "  </thead>\n",
       "  <tbody>\n",
       "    <tr>\n",
       "      <th>영등포구</th>\n",
       "      <td>226580316</td>\n",
       "    </tr>\n",
       "    <tr>\n",
       "      <th>중구</th>\n",
       "      <td>137745441</td>\n",
       "    </tr>\n",
       "  </tbody>\n",
       "</table>\n",
       "</div>"
      ],
      "text/plain": [
       "          total\n",
       "구              \n",
       "영등포구  226580316\n",
       "중구    137745441"
      ]
     },
     "execution_count": 217,
     "metadata": {},
     "output_type": "execute_result"
    }
   ],
   "source": [
    "all_traffic_r_2019 = ddf2.pivot_table(\"total\", \"구\", aggfunc=np.sum)\n",
    "all_traffic_r_2019.tail(2)"
   ]
  },
  {
   "cell_type": "code",
   "execution_count": 218,
   "id": "cdbd7dbb",
   "metadata": {},
   "outputs": [
    {
     "data": {
      "text/html": [
       "<div>\n",
       "<style scoped>\n",
       "    .dataframe tbody tr th:only-of-type {\n",
       "        vertical-align: middle;\n",
       "    }\n",
       "\n",
       "    .dataframe tbody tr th {\n",
       "        vertical-align: top;\n",
       "    }\n",
       "\n",
       "    .dataframe thead th {\n",
       "        text-align: right;\n",
       "    }\n",
       "</style>\n",
       "<table border=\"1\" class=\"dataframe\">\n",
       "  <thead>\n",
       "    <tr style=\"text-align: right;\">\n",
       "      <th></th>\n",
       "      <th>total</th>\n",
       "    </tr>\n",
       "    <tr>\n",
       "      <th>구</th>\n",
       "      <th></th>\n",
       "    </tr>\n",
       "  </thead>\n",
       "  <tbody>\n",
       "    <tr>\n",
       "      <th>영등포구</th>\n",
       "      <td>226580316</td>\n",
       "    </tr>\n",
       "    <tr>\n",
       "      <th>중구</th>\n",
       "      <td>137745441</td>\n",
       "    </tr>\n",
       "  </tbody>\n",
       "</table>\n",
       "</div>"
      ],
      "text/plain": [
       "          total\n",
       "구              \n",
       "영등포구  226580316\n",
       "중구    137745441"
      ]
     },
     "execution_count": 218,
     "metadata": {},
     "output_type": "execute_result"
    }
   ],
   "source": [
    "all_traffic_r_2020 = ddf2.pivot_table(\"total\", \"구\", aggfunc=np.sum)\n",
    "all_traffic_r_2020.tail(2)"
   ]
  },
  {
   "cell_type": "markdown",
   "id": "84594331",
   "metadata": {},
   "source": [
    "## 1-1 2019_2020 서울 전체 대중교통량 비교"
   ]
  },
  {
   "cell_type": "code",
   "execution_count": 220,
   "id": "38df6cb6",
   "metadata": {},
   "outputs": [
    {
     "data": {
      "text/plain": [
       "-5.52"
      ]
     },
     "execution_count": 220,
     "metadata": {},
     "output_type": "execute_result"
    }
   ],
   "source": [
    "y1 = all_traffic_m_2019[\"total\"].sum()\n",
    "y2 = all_traffic_m_2020[\"total\"].sum()\n",
    "all_rate_2019 = round(((y2 - y1) / y1 * 100), 2) # 감소량\n",
    "all_rate_2019"
   ]
  },
  {
   "cell_type": "code",
   "execution_count": 223,
   "id": "40c28493",
   "metadata": {},
   "outputs": [
    {
     "data": {
      "image/png": "[encoded data removed]",
      "text/plain": [
       "<Figure size 432x288 with 1 Axes>"
      ]
     },
     "metadata": {
      "image/png": {
       "height": 265,
       "width": 370
      },
      "needs_background": "light"
     },
     "output_type": "display_data"
    }
   ],
   "source": [
    "x1 = 0\n",
    "x2 = 1\n",
    "#y1 = all_traffic_m_2019[\"total\"].sum() #2019 Total 교통량\n",
    "#y2 = all_traffic_m_2020[\"total\"].sum() #2020 Total 교통량\n",
    "y1 = all_traffic_m_2019[\"total\"].sum()\n",
    "y2 = all_traffic_m_2020[\"total\"].sum()\n",
    "\n",
    "plt.bar(x1,y1, label='2019 traffic', color='b')\n",
    "plt.bar(x2,y2, label='2020 traffic', color='g')\n",
    "plt.legend()\n",
    "plt.ylim([0,70*1000000000/6])\n",
    "plt.text(0.17,85*100000000,all_rate_2019,fontsize=20)\n",
    "plt.text(0.5,85*100000000,\"% 감소\",fontsize=20)\n",
    "plt.title(\"2019_2020 서울 전체 교통량 비교\", fontsize = 15)\n",
    "\n",
    "plt.show()"
   ]
  },
  {
   "cell_type": "markdown",
   "id": "322b4ff0",
   "metadata": {},
   "source": [
    "## 1-2 2019_2020 서울 전체 차량 통행량 비교"
   ]
  },
  {
   "cell_type": "markdown",
   "id": "8f6cc7ea",
   "metadata": {},
   "source": [
    "# 2-1 2019-2020 월별 서울 교통량 비교"
   ]
  },
  {
   "cell_type": "code",
   "execution_count": 224,
   "id": "acoustic-emphasis",
   "metadata": {},
   "outputs": [
    {
     "name": "stdout",
     "output_type": "stream",
     "text": [
      "2019년 평균 통행량 : 289316634 대\n"
     ]
    }
   ],
   "source": [
    "all_tans_2019 = round(all_traffic_m_2019[\"total\"].mean())\n",
    "print(\"2019년 평균 통행량 :\", all_tans_2019,\"대\")"
   ]
  },
  {
   "cell_type": "code",
   "execution_count": 226,
   "id": "turned-bankruptcy",
   "metadata": {},
   "outputs": [
    {
     "data": {
      "text/html": [
       "<div>\n",
       "<style scoped>\n",
       "    .dataframe tbody tr th:only-of-type {\n",
       "        vertical-align: middle;\n",
       "    }\n",
       "\n",
       "    .dataframe tbody tr th {\n",
       "        vertical-align: top;\n",
       "    }\n",
       "\n",
       "    .dataframe thead th {\n",
       "        text-align: right;\n",
       "    }\n",
       "</style>\n",
       "<table border=\"1\" class=\"dataframe\">\n",
       "  <thead>\n",
       "    <tr style=\"text-align: right;\">\n",
       "      <th></th>\n",
       "      <th>total</th>\n",
       "    </tr>\n",
       "    <tr>\n",
       "      <th>월</th>\n",
       "      <th></th>\n",
       "    </tr>\n",
       "  </thead>\n",
       "  <tbody>\n",
       "    <tr>\n",
       "      <th>2019-03</th>\n",
       "      <td>695974373</td>\n",
       "    </tr>\n",
       "    <tr>\n",
       "      <th>2019-04</th>\n",
       "      <td>699471154</td>\n",
       "    </tr>\n",
       "    <tr>\n",
       "      <th>2019-05</th>\n",
       "      <td>719349046</td>\n",
       "    </tr>\n",
       "    <tr>\n",
       "      <th>2019-07</th>\n",
       "      <td>695624147</td>\n",
       "    </tr>\n",
       "    <tr>\n",
       "      <th>2019-10</th>\n",
       "      <td>711970874</td>\n",
       "    </tr>\n",
       "    <tr>\n",
       "      <th>2019-11</th>\n",
       "      <td>690195489</td>\n",
       "    </tr>\n",
       "    <tr>\n",
       "      <th>2019-12</th>\n",
       "      <td>697837963</td>\n",
       "    </tr>\n",
       "  </tbody>\n",
       "</table>\n",
       "</div>"
      ],
      "text/plain": [
       "             total\n",
       "월                 \n",
       "2019-03  695974373\n",
       "2019-04  699471154\n",
       "2019-05  719349046\n",
       "2019-07  695624147\n",
       "2019-10  711970874\n",
       "2019-11  690195489\n",
       "2019-12  697837963"
      ]
     },
     "execution_count": 226,
     "metadata": {},
     "output_type": "execute_result"
    }
   ],
   "source": [
    "compare_2019 = all_traffic_m_2019[all_traffic_m_2019[\"total\"] > all_traffic_m_2019[\"total\"].mean()]\n",
    "compare_df_2019 = pd.DataFrame(compare_df_2019, columns=[\"total\"])\n",
    "compare_df_2019"
   ]
  },
  {
   "cell_type": "code",
   "execution_count": 228,
   "id": "secure-nightmare",
   "metadata": {},
   "outputs": [
    {
     "name": "stdout",
     "output_type": "stream",
     "text": [
      "2020년 평균 통행량 : 273360274 대\n"
     ]
    }
   ],
   "source": [
    "all_tans_2020 = round(all_traffic_m_2020[\"total\"].mean())\n",
    "print(\"2020년 평균 통행량 :\", all_tans_2020,\"대\")"
   ]
  },
  {
   "cell_type": "code",
   "execution_count": 232,
   "id": "unnecessary-stack",
   "metadata": {},
   "outputs": [
    {
     "data": {
      "text/html": [
       "<div>\n",
       "<style scoped>\n",
       "    .dataframe tbody tr th:only-of-type {\n",
       "        vertical-align: middle;\n",
       "    }\n",
       "\n",
       "    .dataframe tbody tr th {\n",
       "        vertical-align: top;\n",
       "    }\n",
       "\n",
       "    .dataframe thead th {\n",
       "        text-align: right;\n",
       "    }\n",
       "</style>\n",
       "<table border=\"1\" class=\"dataframe\">\n",
       "  <thead>\n",
       "    <tr style=\"text-align: right;\">\n",
       "      <th></th>\n",
       "      <th>total</th>\n",
       "    </tr>\n",
       "    <tr>\n",
       "      <th>month</th>\n",
       "      <th></th>\n",
       "    </tr>\n",
       "  </thead>\n",
       "  <tbody>\n",
       "    <tr>\n",
       "      <th>1</th>\n",
       "      <td>287338914</td>\n",
       "    </tr>\n",
       "    <tr>\n",
       "      <th>3</th>\n",
       "      <td>276988930</td>\n",
       "    </tr>\n",
       "    <tr>\n",
       "      <th>4</th>\n",
       "      <td>275890542</td>\n",
       "    </tr>\n",
       "    <tr>\n",
       "      <th>5</th>\n",
       "      <td>291438374</td>\n",
       "    </tr>\n",
       "    <tr>\n",
       "      <th>6</th>\n",
       "      <td>284005714</td>\n",
       "    </tr>\n",
       "    <tr>\n",
       "      <th>7</th>\n",
       "      <td>292195000</td>\n",
       "    </tr>\n",
       "  </tbody>\n",
       "</table>\n",
       "</div>"
      ],
      "text/plain": [
       "           total\n",
       "month           \n",
       "1      287338914\n",
       "3      276988930\n",
       "4      275890542\n",
       "5      291438374\n",
       "6      284005714\n",
       "7      292195000"
      ]
     },
     "execution_count": 232,
     "metadata": {},
     "output_type": "execute_result"
    }
   ],
   "source": [
    "compare_2020 = all_traffic_m_2020[all_traffic_m_2020[\"total\"] > all_traffic_m_2020[\"total\"].mean()]\n",
    "compare_df_2020 = pd.DataFrame(compare_2020, columns=[\"total\"])\n",
    "compare_df_2020"
   ]
  },
  {
   "cell_type": "code",
   "execution_count": 264,
   "id": "answering-sherman",
   "metadata": {},
   "outputs": [
    {
     "data": {
      "image/png": "[encoded data removed]",
      "text/plain": [
       "<Figure size 1440x360 with 1 Axes>"
      ]
     },
     "metadata": {
      "image/png": {
       "height": 322,
       "width": 1151
      },
      "needs_background": "light"
     },
     "output_type": "display_data"
    }
   ],
   "source": [
    "X = [\"1월\",\"2월\",\"3월\",\"4월\",\"5월\",\"6월\",\"7월\",\"8월\",\"9월\",\"10월\",\"11월\",\"12월\"]\n",
    "y1 = all_traffic_m_2019.total\n",
    "y2 = all_traffic_m_2020.total\n",
    "\n",
    "plt.figure(figsize=(20, 5))\n",
    "plt.plot(X,y1, label='2019 traffic(month)', color='b', marker='o')\n",
    "plt.plot(X,y2, label='2020 traffic(month)', color='g', marker='*')\n",
    "\n",
    "plt.legend()\n",
    "plt.title(\"2019-2020 Traffic Counting\", fontsize=20)\n",
    "plt.axhline(y=all_tans_2019, color='r', linewidth=1)\n",
    "plt.axhline(y=all_tans_2020, color='r', linewidth=1)\n",
    "\n",
    "plt.show()"
   ]
  },
  {
   "cell_type": "markdown",
   "id": "2dcc11db",
   "metadata": {},
   "source": [
    "# 2-2 2019-2020 월별 차량 통행량 비교"
   ]
  },
  {
   "cell_type": "markdown",
   "id": "84d8a6c6",
   "metadata": {},
   "source": [
    "## 3-0. 요일별 대중 교통량 출력"
   ]
  },
  {
   "cell_type": "code",
   "execution_count": 280,
   "id": "40caa51b",
   "metadata": {},
   "outputs": [
    {
     "data": {
      "text/html": [
       "<div>\n",
       "<style scoped>\n",
       "    .dataframe tbody tr th:only-of-type {\n",
       "        vertical-align: middle;\n",
       "    }\n",
       "\n",
       "    .dataframe tbody tr th {\n",
       "        vertical-align: top;\n",
       "    }\n",
       "\n",
       "    .dataframe thead th {\n",
       "        text-align: right;\n",
       "    }\n",
       "</style>\n",
       "<table border=\"1\" class=\"dataframe\">\n",
       "  <thead>\n",
       "    <tr style=\"text-align: right;\">\n",
       "      <th></th>\n",
       "      <th>날짜</th>\n",
       "      <th>count</th>\n",
       "    </tr>\n",
       "  </thead>\n",
       "  <tbody>\n",
       "    <tr>\n",
       "      <th>0</th>\n",
       "      <td>2019-01-01(화)</td>\n",
       "      <td>3869</td>\n",
       "    </tr>\n",
       "    <tr>\n",
       "      <th>1</th>\n",
       "      <td>2019-01-01(화)</td>\n",
       "      <td>3393</td>\n",
       "    </tr>\n",
       "    <tr>\n",
       "      <th>2</th>\n",
       "      <td>2019-01-01(화)</td>\n",
       "      <td>1571</td>\n",
       "    </tr>\n",
       "    <tr>\n",
       "      <th>3</th>\n",
       "      <td>2019-01-01(화)</td>\n",
       "      <td>4798</td>\n",
       "    </tr>\n",
       "    <tr>\n",
       "      <th>4</th>\n",
       "      <td>2019-01-01(화)</td>\n",
       "      <td>3785</td>\n",
       "    </tr>\n",
       "    <tr>\n",
       "      <th>...</th>\n",
       "      <td>...</td>\n",
       "      <td>...</td>\n",
       "    </tr>\n",
       "    <tr>\n",
       "      <th>218995</th>\n",
       "      <td>2019-12-31(화)</td>\n",
       "      <td>11500</td>\n",
       "    </tr>\n",
       "    <tr>\n",
       "      <th>218996</th>\n",
       "      <td>2019-12-31(화)</td>\n",
       "      <td>17901</td>\n",
       "    </tr>\n",
       "    <tr>\n",
       "      <th>218997</th>\n",
       "      <td>2019-12-31(화)</td>\n",
       "      <td>26981</td>\n",
       "    </tr>\n",
       "    <tr>\n",
       "      <th>218998</th>\n",
       "      <td>2019-12-31(화)</td>\n",
       "      <td>29817</td>\n",
       "    </tr>\n",
       "    <tr>\n",
       "      <th>218999</th>\n",
       "      <td>2019-12-31(화)</td>\n",
       "      <td>13772</td>\n",
       "    </tr>\n",
       "  </tbody>\n",
       "</table>\n",
       "<p>219000 rows × 2 columns</p>\n",
       "</div>"
      ],
      "text/plain": [
       "                   날짜  count\n",
       "0       2019-01-01(화)   3869\n",
       "1       2019-01-01(화)   3393\n",
       "2       2019-01-01(화)   1571\n",
       "3       2019-01-01(화)   4798\n",
       "4       2019-01-01(화)   3785\n",
       "...               ...    ...\n",
       "218995  2019-12-31(화)  11500\n",
       "218996  2019-12-31(화)  17901\n",
       "218997  2019-12-31(화)  26981\n",
       "218998  2019-12-31(화)  29817\n",
       "218999  2019-12-31(화)  13772\n",
       "\n",
       "[219000 rows x 2 columns]"
      ]
     },
     "execution_count": 280,
     "metadata": {},
     "output_type": "execute_result"
    }
   ],
   "source": [
    "df3 = pd.read_csv(\"2019.csv\")\n",
    "day_pub_traffic_2019 = df3.drop(columns=[\"시간\", \"지명\", \"발생량\", \"도착량\", \"월\"])\n",
    "day_pub_traffic_2019"
   ]
  },
  {
   "cell_type": "code",
   "execution_count": 281,
   "id": "36723f7d",
   "metadata": {},
   "outputs": [],
   "source": [
    "data, weeks = [], [\"월\", \"화\", \"수\", \"목\", \"금\", \"토\", \"일\"]\n",
    "for week in weeks:\n",
    "    data.append(day_pub_traffic_2019[day_pub_traffic_2019[\"날짜\"].str.contains(week)][\"count\"].sum())"
   ]
  },
  {
   "cell_type": "code",
   "execution_count": 282,
   "id": "4775e4d4",
   "metadata": {},
   "outputs": [
    {
     "data": {
      "text/html": [
       "<div>\n",
       "<style scoped>\n",
       "    .dataframe tbody tr th:only-of-type {\n",
       "        vertical-align: middle;\n",
       "    }\n",
       "\n",
       "    .dataframe tbody tr th {\n",
       "        vertical-align: top;\n",
       "    }\n",
       "\n",
       "    .dataframe thead th {\n",
       "        text-align: right;\n",
       "    }\n",
       "</style>\n",
       "<table border=\"1\" class=\"dataframe\">\n",
       "  <thead>\n",
       "    <tr style=\"text-align: right;\">\n",
       "      <th></th>\n",
       "      <th>요일</th>\n",
       "      <th>count</th>\n",
       "    </tr>\n",
       "  </thead>\n",
       "  <tbody>\n",
       "    <tr>\n",
       "      <th>0</th>\n",
       "      <td>월</td>\n",
       "      <td>1248519518</td>\n",
       "    </tr>\n",
       "    <tr>\n",
       "      <th>1</th>\n",
       "      <td>화</td>\n",
       "      <td>1295266170</td>\n",
       "    </tr>\n",
       "    <tr>\n",
       "      <th>2</th>\n",
       "      <td>수</td>\n",
       "      <td>1271578659</td>\n",
       "    </tr>\n",
       "    <tr>\n",
       "      <th>3</th>\n",
       "      <td>목</td>\n",
       "      <td>1261426762</td>\n",
       "    </tr>\n",
       "    <tr>\n",
       "      <th>4</th>\n",
       "      <td>금</td>\n",
       "      <td>1317295673</td>\n",
       "    </tr>\n",
       "    <tr>\n",
       "      <th>5</th>\n",
       "      <td>토</td>\n",
       "      <td>989868437</td>\n",
       "    </tr>\n",
       "    <tr>\n",
       "      <th>6</th>\n",
       "      <td>일</td>\n",
       "      <td>732363190</td>\n",
       "    </tr>\n",
       "  </tbody>\n",
       "</table>\n",
       "</div>"
      ],
      "text/plain": [
       "  요일       count\n",
       "0  월  1248519518\n",
       "1  화  1295266170\n",
       "2  수  1271578659\n",
       "3  목  1261426762\n",
       "4  금  1317295673\n",
       "5  토   989868437\n",
       "6  일   732363190"
      ]
     },
     "execution_count": 282,
     "metadata": {},
     "output_type": "execute_result"
    }
   ],
   "source": [
    "day_pub_traffic_2019 = pd.DataFrame(data=data, index=weeks).reset_index()\n",
    "day_pub_traffic_2019.columns = [\"요일\", \"count\"]\n",
    "day_pub_traffic_2019"
   ]
  },
  {
   "cell_type": "code",
   "execution_count": 283,
   "id": "08795ae0",
   "metadata": {},
   "outputs": [
    {
     "data": {
      "text/html": [
       "<div>\n",
       "<style scoped>\n",
       "    .dataframe tbody tr th:only-of-type {\n",
       "        vertical-align: middle;\n",
       "    }\n",
       "\n",
       "    .dataframe tbody tr th {\n",
       "        vertical-align: top;\n",
       "    }\n",
       "\n",
       "    .dataframe thead th {\n",
       "        text-align: right;\n",
       "    }\n",
       "</style>\n",
       "<table border=\"1\" class=\"dataframe\">\n",
       "  <thead>\n",
       "    <tr style=\"text-align: right;\">\n",
       "      <th></th>\n",
       "      <th>날짜</th>\n",
       "      <th>count</th>\n",
       "    </tr>\n",
       "  </thead>\n",
       "  <tbody>\n",
       "    <tr>\n",
       "      <th>0</th>\n",
       "      <td>2020-01-01(수)</td>\n",
       "      <td>2873</td>\n",
       "    </tr>\n",
       "    <tr>\n",
       "      <th>1</th>\n",
       "      <td>2020-01-01(수)</td>\n",
       "      <td>3251</td>\n",
       "    </tr>\n",
       "    <tr>\n",
       "      <th>2</th>\n",
       "      <td>2020-01-01(수)</td>\n",
       "      <td>1877</td>\n",
       "    </tr>\n",
       "    <tr>\n",
       "      <th>3</th>\n",
       "      <td>2020-01-01(수)</td>\n",
       "      <td>3677</td>\n",
       "    </tr>\n",
       "    <tr>\n",
       "      <th>4</th>\n",
       "      <td>2020-01-01(수)</td>\n",
       "      <td>3077</td>\n",
       "    </tr>\n",
       "    <tr>\n",
       "      <th>...</th>\n",
       "      <td>...</td>\n",
       "      <td>...</td>\n",
       "    </tr>\n",
       "    <tr>\n",
       "      <th>219595</th>\n",
       "      <td>2020-12-31(목)</td>\n",
       "      <td>2483</td>\n",
       "    </tr>\n",
       "    <tr>\n",
       "      <th>219596</th>\n",
       "      <td>2020-12-31(목)</td>\n",
       "      <td>2779</td>\n",
       "    </tr>\n",
       "    <tr>\n",
       "      <th>219597</th>\n",
       "      <td>2020-12-31(목)</td>\n",
       "      <td>3203</td>\n",
       "    </tr>\n",
       "    <tr>\n",
       "      <th>219598</th>\n",
       "      <td>2020-12-31(목)</td>\n",
       "      <td>3305</td>\n",
       "    </tr>\n",
       "    <tr>\n",
       "      <th>219599</th>\n",
       "      <td>2020-12-31(목)</td>\n",
       "      <td>3142</td>\n",
       "    </tr>\n",
       "  </tbody>\n",
       "</table>\n",
       "<p>219600 rows × 2 columns</p>\n",
       "</div>"
      ],
      "text/plain": [
       "                   날짜  count\n",
       "0       2020-01-01(수)   2873\n",
       "1       2020-01-01(수)   3251\n",
       "2       2020-01-01(수)   1877\n",
       "3       2020-01-01(수)   3677\n",
       "4       2020-01-01(수)   3077\n",
       "...               ...    ...\n",
       "219595  2020-12-31(목)   2483\n",
       "219596  2020-12-31(목)   2779\n",
       "219597  2020-12-31(목)   3203\n",
       "219598  2020-12-31(목)   3305\n",
       "219599  2020-12-31(목)   3142\n",
       "\n",
       "[219600 rows x 2 columns]"
      ]
     },
     "execution_count": 283,
     "metadata": {},
     "output_type": "execute_result"
    }
   ],
   "source": [
    "df4 = pd.read_csv(\"2020.csv\")\n",
    "day_pub_traffic_2020 = df4.drop(columns=[\"시간\", \"지명\", \"발생량\", \"도착량\", \"월\"])\n",
    "day_pub_traffic_2020"
   ]
  },
  {
   "cell_type": "code",
   "execution_count": 284,
   "id": "12aee123",
   "metadata": {},
   "outputs": [],
   "source": [
    "data, weeks = [], [\"월\", \"화\", \"수\", \"목\", \"금\", \"토\", \"일\"]\n",
    "for week in weeks:\n",
    "    data.append(day_pub_traffic_2020[day_pub_traffic_2020[\"날짜\"].str.contains(week)][\"count\"].sum())"
   ]
  },
  {
   "cell_type": "code",
   "execution_count": 285,
   "id": "ce487088",
   "metadata": {},
   "outputs": [
    {
     "data": {
      "text/html": [
       "<div>\n",
       "<style scoped>\n",
       "    .dataframe tbody tr th:only-of-type {\n",
       "        vertical-align: middle;\n",
       "    }\n",
       "\n",
       "    .dataframe tbody tr th {\n",
       "        vertical-align: top;\n",
       "    }\n",
       "\n",
       "    .dataframe thead th {\n",
       "        text-align: right;\n",
       "    }\n",
       "</style>\n",
       "<table border=\"1\" class=\"dataframe\">\n",
       "  <thead>\n",
       "    <tr style=\"text-align: right;\">\n",
       "      <th></th>\n",
       "      <th>요일</th>\n",
       "      <th>count</th>\n",
       "    </tr>\n",
       "  </thead>\n",
       "  <tbody>\n",
       "    <tr>\n",
       "      <th>0</th>\n",
       "      <td>월</td>\n",
       "      <td>958279301</td>\n",
       "    </tr>\n",
       "    <tr>\n",
       "      <th>1</th>\n",
       "      <td>화</td>\n",
       "      <td>978872517</td>\n",
       "    </tr>\n",
       "    <tr>\n",
       "      <th>2</th>\n",
       "      <td>수</td>\n",
       "      <td>986414298</td>\n",
       "    </tr>\n",
       "    <tr>\n",
       "      <th>3</th>\n",
       "      <td>목</td>\n",
       "      <td>989556461</td>\n",
       "    </tr>\n",
       "    <tr>\n",
       "      <th>4</th>\n",
       "      <td>금</td>\n",
       "      <td>974119077</td>\n",
       "    </tr>\n",
       "    <tr>\n",
       "      <th>5</th>\n",
       "      <td>토</td>\n",
       "      <td>649499462</td>\n",
       "    </tr>\n",
       "    <tr>\n",
       "      <th>6</th>\n",
       "      <td>일</td>\n",
       "      <td>463975271</td>\n",
       "    </tr>\n",
       "  </tbody>\n",
       "</table>\n",
       "</div>"
      ],
      "text/plain": [
       "  요일      count\n",
       "0  월  958279301\n",
       "1  화  978872517\n",
       "2  수  986414298\n",
       "3  목  989556461\n",
       "4  금  974119077\n",
       "5  토  649499462\n",
       "6  일  463975271"
      ]
     },
     "execution_count": 285,
     "metadata": {},
     "output_type": "execute_result"
    }
   ],
   "source": [
    "day_pub_traffic_2020 = pd.DataFrame(data=data, index=weeks).reset_index()\n",
    "day_pub_traffic_2020.columns = [\"요일\", \"count\"]\n",
    "day_pub_traffic_2020"
   ]
  },
  {
   "cell_type": "markdown",
   "id": "5bc9a79f",
   "metadata": {},
   "source": [
    "# 3 요일별 대중교통 이용량 비교"
   ]
  },
  {
   "cell_type": "markdown",
   "id": "2c77028e",
   "metadata": {},
   "source": [
    "### 3.1.1주말 대중교통 이용량 비교(토,일)"
   ]
  },
  {
   "cell_type": "code",
   "execution_count": 358,
   "id": "51042bdd",
   "metadata": {},
   "outputs": [
    {
     "data": {
      "text/html": [
       "<div>\n",
       "<style scoped>\n",
       "    .dataframe tbody tr th:only-of-type {\n",
       "        vertical-align: middle;\n",
       "    }\n",
       "\n",
       "    .dataframe tbody tr th {\n",
       "        vertical-align: top;\n",
       "    }\n",
       "\n",
       "    .dataframe thead th {\n",
       "        text-align: right;\n",
       "    }\n",
       "</style>\n",
       "<table border=\"1\" class=\"dataframe\">\n",
       "  <thead>\n",
       "    <tr style=\"text-align: right;\">\n",
       "      <th></th>\n",
       "      <th>요일</th>\n",
       "      <th>total</th>\n",
       "    </tr>\n",
       "  </thead>\n",
       "  <tbody>\n",
       "    <tr>\n",
       "      <th>0</th>\n",
       "      <td>일</td>\n",
       "      <td>42083</td>\n",
       "    </tr>\n",
       "    <tr>\n",
       "      <th>1</th>\n",
       "      <td>수</td>\n",
       "      <td>63520</td>\n",
       "    </tr>\n",
       "    <tr>\n",
       "      <th>2</th>\n",
       "      <td>목</td>\n",
       "      <td>68255</td>\n",
       "    </tr>\n",
       "    <tr>\n",
       "      <th>3</th>\n",
       "      <td>금</td>\n",
       "      <td>69836</td>\n",
       "    </tr>\n",
       "    <tr>\n",
       "      <th>4</th>\n",
       "      <td>토</td>\n",
       "      <td>59502</td>\n",
       "    </tr>\n",
       "    <tr>\n",
       "      <th>...</th>\n",
       "      <td>...</td>\n",
       "      <td>...</td>\n",
       "    </tr>\n",
       "    <tr>\n",
       "      <th>49270</th>\n",
       "      <td>금</td>\n",
       "      <td>114585</td>\n",
       "    </tr>\n",
       "    <tr>\n",
       "      <th>49271</th>\n",
       "      <td>토</td>\n",
       "      <td>123559</td>\n",
       "    </tr>\n",
       "    <tr>\n",
       "      <th>49272</th>\n",
       "      <td>일</td>\n",
       "      <td>113614</td>\n",
       "    </tr>\n",
       "    <tr>\n",
       "      <th>49273</th>\n",
       "      <td>월</td>\n",
       "      <td>110342</td>\n",
       "    </tr>\n",
       "    <tr>\n",
       "      <th>49274</th>\n",
       "      <td>화</td>\n",
       "      <td>108784</td>\n",
       "    </tr>\n",
       "  </tbody>\n",
       "</table>\n",
       "<p>49275 rows × 2 columns</p>\n",
       "</div>"
      ],
      "text/plain": [
       "      요일   total\n",
       "0      일   42083\n",
       "1      수   63520\n",
       "2      목   68255\n",
       "3      금   69836\n",
       "4      토   59502\n",
       "...   ..     ...\n",
       "49270  금  114585\n",
       "49271  토  123559\n",
       "49272  일  113614\n",
       "49273  월  110342\n",
       "49274  화  108784\n",
       "\n",
       "[49275 rows x 2 columns]"
      ]
     },
     "execution_count": 358,
     "metadata": {},
     "output_type": "execute_result"
    }
   ],
   "source": [
    "ddf3 = pd.read_csv(\"./data_2019_seoultraffic.csv\")\n",
    "day_all_traffic_2019 = pd.DataFrame(ddf3, columns=[\"요일\", \"total\"])\n",
    "day_all_traffic_2019"
   ]
  },
  {
   "cell_type": "code",
   "execution_count": 359,
   "id": "9d0eede0",
   "metadata": {},
   "outputs": [],
   "source": [
    "data, weeks = [], [\"월\", \"화\", \"수\", \"목\", \"금\", \"토\", \"일\"]\n",
    "for week in weeks:\n",
    "    data.append(day_all_traffic_2019[day_all_traffic_2019[\"요일\"].str.contains(week)][\"total\"].sum())"
   ]
  },
  {
   "cell_type": "code",
   "execution_count": 360,
   "id": "e7430a91",
   "metadata": {},
   "outputs": [
    {
     "data": {
      "text/html": [
       "<div>\n",
       "<style scoped>\n",
       "    .dataframe tbody tr th:only-of-type {\n",
       "        vertical-align: middle;\n",
       "    }\n",
       "\n",
       "    .dataframe tbody tr th {\n",
       "        vertical-align: top;\n",
       "    }\n",
       "\n",
       "    .dataframe thead th {\n",
       "        text-align: right;\n",
       "    }\n",
       "</style>\n",
       "<table border=\"1\" class=\"dataframe\">\n",
       "  <thead>\n",
       "    <tr style=\"text-align: right;\">\n",
       "      <th></th>\n",
       "      <th>요일</th>\n",
       "      <th>total</th>\n",
       "    </tr>\n",
       "  </thead>\n",
       "  <tbody>\n",
       "    <tr>\n",
       "      <th>0</th>\n",
       "      <td>월</td>\n",
       "      <td>495321251</td>\n",
       "    </tr>\n",
       "    <tr>\n",
       "      <th>1</th>\n",
       "      <td>화</td>\n",
       "      <td>509517933</td>\n",
       "    </tr>\n",
       "    <tr>\n",
       "      <th>2</th>\n",
       "      <td>수</td>\n",
       "      <td>527079819</td>\n",
       "    </tr>\n",
       "    <tr>\n",
       "      <th>3</th>\n",
       "      <td>목</td>\n",
       "      <td>492164038</td>\n",
       "    </tr>\n",
       "    <tr>\n",
       "      <th>4</th>\n",
       "      <td>금</td>\n",
       "      <td>521941567</td>\n",
       "    </tr>\n",
       "    <tr>\n",
       "      <th>5</th>\n",
       "      <td>토</td>\n",
       "      <td>492424776</td>\n",
       "    </tr>\n",
       "    <tr>\n",
       "      <th>6</th>\n",
       "      <td>일</td>\n",
       "      <td>433350226</td>\n",
       "    </tr>\n",
       "  </tbody>\n",
       "</table>\n",
       "</div>"
      ],
      "text/plain": [
       "  요일      total\n",
       "0  월  495321251\n",
       "1  화  509517933\n",
       "2  수  527079819\n",
       "3  목  492164038\n",
       "4  금  521941567\n",
       "5  토  492424776\n",
       "6  일  433350226"
      ]
     },
     "execution_count": 360,
     "metadata": {},
     "output_type": "execute_result"
    }
   ],
   "source": [
    "day_all_traffic_2019 = pd.DataFrame(data=data, index=weeks).reset_index()\n",
    "day_all_traffic_2019.columns = [\"요일\", \"total\"]\n",
    "day_all_traffic_2019"
   ]
  },
  {
   "cell_type": "code",
   "execution_count": 361,
   "id": "bfb7edeb",
   "metadata": {},
   "outputs": [
    {
     "data": {
      "text/html": [
       "<div>\n",
       "<style scoped>\n",
       "    .dataframe tbody tr th:only-of-type {\n",
       "        vertical-align: middle;\n",
       "    }\n",
       "\n",
       "    .dataframe tbody tr th {\n",
       "        vertical-align: top;\n",
       "    }\n",
       "\n",
       "    .dataframe thead th {\n",
       "        text-align: right;\n",
       "    }\n",
       "</style>\n",
       "<table border=\"1\" class=\"dataframe\">\n",
       "  <thead>\n",
       "    <tr style=\"text-align: right;\">\n",
       "      <th></th>\n",
       "      <th>요일</th>\n",
       "      <th>total</th>\n",
       "    </tr>\n",
       "  </thead>\n",
       "  <tbody>\n",
       "    <tr>\n",
       "      <th>0</th>\n",
       "      <td>수</td>\n",
       "      <td>43040</td>\n",
       "    </tr>\n",
       "    <tr>\n",
       "      <th>1</th>\n",
       "      <td>목</td>\n",
       "      <td>62488</td>\n",
       "    </tr>\n",
       "    <tr>\n",
       "      <th>2</th>\n",
       "      <td>금</td>\n",
       "      <td>67088</td>\n",
       "    </tr>\n",
       "    <tr>\n",
       "      <th>3</th>\n",
       "      <td>토</td>\n",
       "      <td>54995</td>\n",
       "    </tr>\n",
       "    <tr>\n",
       "      <th>4</th>\n",
       "      <td>일</td>\n",
       "      <td>46687</td>\n",
       "    </tr>\n",
       "    <tr>\n",
       "      <th>...</th>\n",
       "      <td>...</td>\n",
       "      <td>...</td>\n",
       "    </tr>\n",
       "    <tr>\n",
       "      <th>49405</th>\n",
       "      <td>일</td>\n",
       "      <td>95643</td>\n",
       "    </tr>\n",
       "    <tr>\n",
       "      <th>49406</th>\n",
       "      <td>월</td>\n",
       "      <td>96370</td>\n",
       "    </tr>\n",
       "    <tr>\n",
       "      <th>49407</th>\n",
       "      <td>화</td>\n",
       "      <td>96541</td>\n",
       "    </tr>\n",
       "    <tr>\n",
       "      <th>49408</th>\n",
       "      <td>수</td>\n",
       "      <td>97701</td>\n",
       "    </tr>\n",
       "    <tr>\n",
       "      <th>49409</th>\n",
       "      <td>목</td>\n",
       "      <td>96422</td>\n",
       "    </tr>\n",
       "  </tbody>\n",
       "</table>\n",
       "<p>49410 rows × 2 columns</p>\n",
       "</div>"
      ],
      "text/plain": [
       "      요일  total\n",
       "0      수  43040\n",
       "1      목  62488\n",
       "2      금  67088\n",
       "3      토  54995\n",
       "4      일  46687\n",
       "...   ..    ...\n",
       "49405  일  95643\n",
       "49406  월  96370\n",
       "49407  화  96541\n",
       "49408  수  97701\n",
       "49409  목  96422\n",
       "\n",
       "[49410 rows x 2 columns]"
      ]
     },
     "execution_count": 361,
     "metadata": {},
     "output_type": "execute_result"
    }
   ],
   "source": [
    "ddf4 = pd.read_csv(\"./data_2020_seoultraffic.csv\")\n",
    "day_all_traffic_2020 = pd.DataFrame(ddf4, columns=[\"요일\", \"total\"])\n",
    "day_all_traffic_2020"
   ]
  },
  {
   "cell_type": "code",
   "execution_count": 362,
   "id": "f38446d8",
   "metadata": {},
   "outputs": [],
   "source": [
    "data, weeks = [], [\"월\", \"화\", \"수\", \"목\", \"금\", \"토\", \"일\"]\n",
    "for week in weeks:\n",
    "    data.append(day_all_traffic_2020[day_all_traffic_2020[\"요일\"].str.contains(week)][\"total\"].sum())"
   ]
  },
  {
   "cell_type": "code",
   "execution_count": 363,
   "id": "76bddf23",
   "metadata": {},
   "outputs": [
    {
     "data": {
      "text/html": [
       "<div>\n",
       "<style scoped>\n",
       "    .dataframe tbody tr th:only-of-type {\n",
       "        vertical-align: middle;\n",
       "    }\n",
       "\n",
       "    .dataframe tbody tr th {\n",
       "        vertical-align: top;\n",
       "    }\n",
       "\n",
       "    .dataframe thead th {\n",
       "        text-align: right;\n",
       "    }\n",
       "</style>\n",
       "<table border=\"1\" class=\"dataframe\">\n",
       "  <thead>\n",
       "    <tr style=\"text-align: right;\">\n",
       "      <th></th>\n",
       "      <th>요일</th>\n",
       "      <th>total</th>\n",
       "    </tr>\n",
       "  </thead>\n",
       "  <tbody>\n",
       "    <tr>\n",
       "      <th>0</th>\n",
       "      <td>월</td>\n",
       "      <td>475181608</td>\n",
       "    </tr>\n",
       "    <tr>\n",
       "      <th>1</th>\n",
       "      <td>화</td>\n",
       "      <td>486640237</td>\n",
       "    </tr>\n",
       "    <tr>\n",
       "      <th>2</th>\n",
       "      <td>수</td>\n",
       "      <td>493765368</td>\n",
       "    </tr>\n",
       "    <tr>\n",
       "      <th>3</th>\n",
       "      <td>목</td>\n",
       "      <td>498696678</td>\n",
       "    </tr>\n",
       "    <tr>\n",
       "      <th>4</th>\n",
       "      <td>금</td>\n",
       "      <td>495326562</td>\n",
       "    </tr>\n",
       "    <tr>\n",
       "      <th>5</th>\n",
       "      <td>토</td>\n",
       "      <td>454937964</td>\n",
       "    </tr>\n",
       "    <tr>\n",
       "      <th>6</th>\n",
       "      <td>일</td>\n",
       "      <td>375774867</td>\n",
       "    </tr>\n",
       "  </tbody>\n",
       "</table>\n",
       "</div>"
      ],
      "text/plain": [
       "  요일      total\n",
       "0  월  475181608\n",
       "1  화  486640237\n",
       "2  수  493765368\n",
       "3  목  498696678\n",
       "4  금  495326562\n",
       "5  토  454937964\n",
       "6  일  375774867"
      ]
     },
     "execution_count": 363,
     "metadata": {},
     "output_type": "execute_result"
    }
   ],
   "source": [
    "day_all_traffic_2020 = pd.DataFrame(data=data, index=weeks).reset_index()\n",
    "day_all_traffic_2020.columns = [\"요일\", \"total\"]\n",
    "day_all_traffic_2020"
   ]
  },
  {
   "cell_type": "code",
   "execution_count": null,
   "id": "cccc7150",
   "metadata": {},
   "outputs": [],
   "source": []
  },
  {
   "cell_type": "code",
   "execution_count": null,
   "id": "d818dd0f",
   "metadata": {},
   "outputs": [],
   "source": []
  },
  {
   "cell_type": "markdown",
   "id": "99546c13",
   "metadata": {},
   "source": [
    "### 3.1.2 주말 차량 통행량 비교(토,일)"
   ]
  },
  {
   "cell_type": "code",
   "execution_count": null,
   "id": "3a714340",
   "metadata": {},
   "outputs": [],
   "source": []
  },
  {
   "cell_type": "code",
   "execution_count": null,
   "id": "93a1740b",
   "metadata": {},
   "outputs": [],
   "source": []
  },
  {
   "cell_type": "code",
   "execution_count": null,
   "id": "a82ff48e",
   "metadata": {},
   "outputs": [],
   "source": []
  },
  {
   "cell_type": "code",
   "execution_count": 112,
   "id": "950aaadd",
   "metadata": {},
   "outputs": [
    {
     "data": {
      "text/plain": [
       "-35.34698146615792"
      ]
     },
     "execution_count": 112,
     "metadata": {},
     "output_type": "execute_result"
    }
   ],
   "source": [
    "(np.sum(ytraffic_2020[\"count\"][-2:]) - np.sum(ytraffic_2019[\"count\"][-2:]))\\\n",
    "/ np.sum(ytraffic_2019[\"count\"][-2:]) * 100"
   ]
  },
  {
   "cell_type": "code",
   "execution_count": 113,
   "id": "8734a962",
   "metadata": {},
   "outputs": [
    {
     "data": {
      "image/png": "[encoded data removed]",
      "text/plain": [
       "<Figure size 432x288 with 1 Axes>"
      ]
     },
     "metadata": {
      "image/png": {
       "height": 268,
       "width": 370
      },
      "needs_background": "light"
     },
     "output_type": "display_data"
    }
   ],
   "source": [
    "X1 = [\"2019년\"]\n",
    "X2 = [\"2020년\"]\n",
    "\n",
    "y1 = week_2019\n",
    "y2 = week_2020\n",
    "\n",
    "plt.bar(X1, y1)\n",
    "plt.bar(X2, y2)\n",
    "plt.ylim([300000000, 120*10000000]) \n",
    "\n",
    "plt.text(X1, 60*10000000, week_2019, ha=\"center\", fontsize = 20)\n",
    "plt.text(X2, 60*10000000, week_2020, ha=\"center\" ,fontsize = 20)\n",
    "plt.title(\"rate : -10.27.%\", fontsize = 20)\n",
    "plt.show()\n",
    "\n",
    "\n",
    "plt.show()"
   ]
  },
  {
   "cell_type": "markdown",
   "id": "a27b3f9b",
   "metadata": {},
   "source": [
    "### 3.2.1 평일 대중교통 이용량 비교(월-금)"
   ]
  },
  {
   "cell_type": "code",
   "execution_count": 114,
   "id": "remarkable-bachelor",
   "metadata": {},
   "outputs": [
    {
     "data": {
      "text/plain": [
       "-23.56622891390716"
      ]
     },
     "execution_count": 114,
     "metadata": {},
     "output_type": "execute_result"
    }
   ],
   "source": [
    "(np.sum(ytraffic_2020[\"count\"][:-2]) - np.sum(ytraffic_2019[\"count\"][:-2]))\\\n",
    "/ np.sum(ytraffic_2019[\"count\"][:-2]) * 100"
   ]
  },
  {
   "cell_type": "code",
   "execution_count": 115,
   "id": "twelve-wonder",
   "metadata": {},
   "outputs": [
    {
     "data": {
      "text/plain": [
       "(6394086782, 4887241654)"
      ]
     },
     "execution_count": 115,
     "metadata": {},
     "output_type": "execute_result"
    }
   ],
   "source": [
    "y1 = sum(ytraffic_2019[\"count\"][:-2])\n",
    "y2 = sum(ytraffic_2020[\"count\"][:-2])\n",
    "y1, y2"
   ]
  },
  {
   "cell_type": "code",
   "execution_count": 116,
   "id": "original-saying",
   "metadata": {},
   "outputs": [
    {
     "data": {
      "image/png": "[encoded data removed]",
      "text/plain": [
       "<Figure size 432x288 with 1 Axes>"
      ]
     },
     "metadata": {
      "image/png": {
       "height": 268,
       "width": 361
      },
      "needs_background": "light"
     },
     "output_type": "display_data"
    }
   ],
   "source": [
    "plt.bar(\"2019년 평일 교통량\", y1)\n",
    "plt.bar(\"2020년 평일 교통량\", y2)\n",
    "\n",
    "a = np.sum(ytraffic_2019[\"count\"][:-2])\n",
    "b = np.sum(ytraffic_2020[\"count\"][:-2])\n",
    "plt.text(\"2019년 평일 교통량\",80*10000000, a, ha=\"center\", fontsize = 20)\n",
    "plt.text(\"2020년 평일 교통량\", 80*10000000, b, ha=\"center\", fontsize = 20)\n",
    "plt.title(\"-23.57%\", fontsize = 20)\n",
    "plt.show()"
   ]
  },
  {
   "cell_type": "markdown",
   "id": "cdd7d388",
   "metadata": {},
   "source": [
    "### 3.2.2 평일 차량통행량 비교(월-금)"
   ]
  },
  {
   "cell_type": "code",
   "execution_count": 117,
   "id": "6a7f16a7",
   "metadata": {
    "scrolled": true
   },
   "outputs": [
    {
     "data": {
      "text/html": [
       "<div>\n",
       "<style scoped>\n",
       "    .dataframe tbody tr th:only-of-type {\n",
       "        vertical-align: middle;\n",
       "    }\n",
       "\n",
       "    .dataframe tbody tr th {\n",
       "        vertical-align: top;\n",
       "    }\n",
       "\n",
       "    .dataframe thead th {\n",
       "        text-align: right;\n",
       "    }\n",
       "</style>\n",
       "<table border=\"1\" class=\"dataframe\">\n",
       "  <thead>\n",
       "    <tr style=\"text-align: right;\">\n",
       "      <th>year</th>\n",
       "      <th>2020</th>\n",
       "    </tr>\n",
       "    <tr>\n",
       "      <th>요일</th>\n",
       "      <th></th>\n",
       "    </tr>\n",
       "  </thead>\n",
       "  <tbody>\n",
       "    <tr>\n",
       "      <th>금</th>\n",
       "      <td>495326562</td>\n",
       "    </tr>\n",
       "    <tr>\n",
       "      <th>목</th>\n",
       "      <td>498696678</td>\n",
       "    </tr>\n",
       "    <tr>\n",
       "      <th>수</th>\n",
       "      <td>493765368</td>\n",
       "    </tr>\n",
       "    <tr>\n",
       "      <th>월</th>\n",
       "      <td>475181608</td>\n",
       "    </tr>\n",
       "    <tr>\n",
       "      <th>일</th>\n",
       "      <td>375774867</td>\n",
       "    </tr>\n",
       "    <tr>\n",
       "      <th>토</th>\n",
       "      <td>454937964</td>\n",
       "    </tr>\n",
       "    <tr>\n",
       "      <th>화</th>\n",
       "      <td>486640237</td>\n",
       "    </tr>\n",
       "  </tbody>\n",
       "</table>\n",
       "</div>"
      ],
      "text/plain": [
       "year       2020\n",
       "요일             \n",
       "금     495326562\n",
       "목     498696678\n",
       "수     493765368\n",
       "월     475181608\n",
       "일     375774867\n",
       "토     454937964\n",
       "화     486640237"
      ]
     },
     "execution_count": 117,
     "metadata": {},
     "output_type": "execute_result"
    }
   ],
   "source": [
    "dayofthweek_2020"
   ]
  },
  {
   "cell_type": "code",
   "execution_count": 118,
   "id": "9ab6301b",
   "metadata": {},
   "outputs": [],
   "source": [
    "yy1 = (np.sum(dayofthweek_2019[0:4])+np.sum(dayofthweek_2019[-1:])).values\n",
    "yy2 = (np.sum(dayofthweek_2020[0:4])+np.sum(dayofthweek_2020[-1:])).values"
   ]
  },
  {
   "cell_type": "code",
   "execution_count": 119,
   "id": "edf6fbc2",
   "metadata": {},
   "outputs": [],
   "source": [
    "cc = ((yy2 - yy1) / yy2 ) * 100"
   ]
  },
  {
   "cell_type": "code",
   "execution_count": 120,
   "id": "72beb7e6",
   "metadata": {},
   "outputs": [
    {
     "name": "stderr",
     "output_type": "stream",
     "text": [
      "/Users/ijiyeong/opt/anaconda3/envs/jiyoung/lib/python3.7/site-packages/matplotlib/text.py:1215: FutureWarning: elementwise comparison failed; returning scalar instead, but in the future will perform elementwise comparison\n",
      "  if s != self._text:\n"
     ]
    },
    {
     "data": {
      "image/png": "[encoded data removed]",
      "text/plain": [
       "<Figure size 432x288 with 1 Axes>"
      ]
     },
     "metadata": {
      "image/png": {
       "height": 268,
       "width": 370
      },
      "needs_background": "light"
     },
     "output_type": "display_data"
    }
   ],
   "source": [
    "plt.bar(\"2019년 평일 교통량\", yy1)\n",
    "plt.bar(\"2020년 평일 교통량\", yy2)\n",
    "\n",
    "yy1 = (np.sum(dayofthweek_2019[0:4])+np.sum(dayofthweek_2019[-1:])).values\n",
    "yy2 = (np.sum(dayofthweek_2020[0:4])+np.sum(dayofthweek_2020[-1:])).values\n",
    "plt.text(\"2019년 평일 교통량\", 50*10000000, yy1, ha=\"center\", fontsize = 13)\n",
    "plt.text(\"2020년 평일 교통량\", 50*10000000, yy2, ha=\"center\", fontsize = 13)\n",
    "plt.title(cc, fontsize = 20)\n",
    "plt.show()"
   ]
  },
  {
   "cell_type": "markdown",
   "id": "8d29b29b",
   "metadata": {},
   "source": [
    "## 4.지역별 비교"
   ]
  },
  {
   "cell_type": "markdown",
   "id": "553e9ad5",
   "metadata": {},
   "source": [
    "### 4.1지역별 대중교통량 비교"
   ]
  },
  {
   "cell_type": "code",
   "execution_count": 121,
   "id": "7050810b",
   "metadata": {},
   "outputs": [
    {
     "data": {
      "text/html": [
       "<div>\n",
       "<style scoped>\n",
       "    .dataframe tbody tr th:only-of-type {\n",
       "        vertical-align: middle;\n",
       "    }\n",
       "\n",
       "    .dataframe tbody tr th {\n",
       "        vertical-align: top;\n",
       "    }\n",
       "\n",
       "    .dataframe thead th {\n",
       "        text-align: right;\n",
       "    }\n",
       "</style>\n",
       "<table border=\"1\" class=\"dataframe\">\n",
       "  <thead>\n",
       "    <tr style=\"text-align: right;\">\n",
       "      <th>시간</th>\n",
       "      <th>0</th>\n",
       "      <th>1</th>\n",
       "      <th>2</th>\n",
       "      <th>3</th>\n",
       "      <th>4</th>\n",
       "      <th>5</th>\n",
       "      <th>6</th>\n",
       "      <th>7</th>\n",
       "      <th>8</th>\n",
       "      <th>9</th>\n",
       "      <th>...</th>\n",
       "      <th>16</th>\n",
       "      <th>17</th>\n",
       "      <th>18</th>\n",
       "      <th>19</th>\n",
       "      <th>20</th>\n",
       "      <th>21</th>\n",
       "      <th>22</th>\n",
       "      <th>23</th>\n",
       "      <th>total</th>\n",
       "      <th>region</th>\n",
       "    </tr>\n",
       "    <tr>\n",
       "      <th>지명</th>\n",
       "      <th></th>\n",
       "      <th></th>\n",
       "      <th></th>\n",
       "      <th></th>\n",
       "      <th></th>\n",
       "      <th></th>\n",
       "      <th></th>\n",
       "      <th></th>\n",
       "      <th></th>\n",
       "      <th></th>\n",
       "      <th></th>\n",
       "      <th></th>\n",
       "      <th></th>\n",
       "      <th></th>\n",
       "      <th></th>\n",
       "      <th></th>\n",
       "      <th></th>\n",
       "      <th></th>\n",
       "      <th></th>\n",
       "      <th></th>\n",
       "      <th></th>\n",
       "    </tr>\n",
       "  </thead>\n",
       "  <tbody>\n",
       "    <tr>\n",
       "      <th>중구</th>\n",
       "      <td>3518016</td>\n",
       "      <td>572340</td>\n",
       "      <td>239087</td>\n",
       "      <td>215153</td>\n",
       "      <td>501450</td>\n",
       "      <td>3155734</td>\n",
       "      <td>5716093</td>\n",
       "      <td>12502745</td>\n",
       "      <td>25150575</td>\n",
       "      <td>18739397</td>\n",
       "      <td>...</td>\n",
       "      <td>29865336</td>\n",
       "      <td>37557276</td>\n",
       "      <td>55470515</td>\n",
       "      <td>38990793</td>\n",
       "      <td>27587356</td>\n",
       "      <td>25132393</td>\n",
       "      <td>21287791</td>\n",
       "      <td>12756123</td>\n",
       "      <td>447485581</td>\n",
       "      <td>중구</td>\n",
       "    </tr>\n",
       "    <tr>\n",
       "      <th>중랑구</th>\n",
       "      <td>1429246</td>\n",
       "      <td>237634</td>\n",
       "      <td>75320</td>\n",
       "      <td>66496</td>\n",
       "      <td>865449</td>\n",
       "      <td>3163495</td>\n",
       "      <td>6457136</td>\n",
       "      <td>15182553</td>\n",
       "      <td>22283249</td>\n",
       "      <td>13902473</td>\n",
       "      <td>...</td>\n",
       "      <td>11444769</td>\n",
       "      <td>12500258</td>\n",
       "      <td>14244402</td>\n",
       "      <td>12439521</td>\n",
       "      <td>8442147</td>\n",
       "      <td>7587105</td>\n",
       "      <td>6741702</td>\n",
       "      <td>3980054</td>\n",
       "      <td>199074236</td>\n",
       "      <td>중랑구</td>\n",
       "    </tr>\n",
       "  </tbody>\n",
       "</table>\n",
       "<p>2 rows × 26 columns</p>\n",
       "</div>"
      ],
      "text/plain": [
       "시간         0       1       2       3       4        5        6         7  \\\n",
       "지명                                                                         \n",
       "중구   3518016  572340  239087  215153  501450  3155734  5716093  12502745   \n",
       "중랑구  1429246  237634   75320   66496  865449  3163495  6457136  15182553   \n",
       "\n",
       "시간          8         9  ...        16        17        18        19  \\\n",
       "지명                       ...                                           \n",
       "중구   25150575  18739397  ...  29865336  37557276  55470515  38990793   \n",
       "중랑구  22283249  13902473  ...  11444769  12500258  14244402  12439521   \n",
       "\n",
       "시간         20        21        22        23      total  region  \n",
       "지명                                                              \n",
       "중구   27587356  25132393  21287791  12756123  447485581      중구  \n",
       "중랑구   8442147   7587105   6741702   3980054  199074236     중랑구  \n",
       "\n",
       "[2 rows x 26 columns]"
      ]
     },
     "execution_count": 121,
     "metadata": {},
     "output_type": "execute_result"
    }
   ],
   "source": [
    "traffic_r_2019.loc[:,'region'] = ['강남구', '강동구', '강북구', '강서구', '관악구', '광진구', '구로구', '금천구', \\\n",
    "                                  '노원구', '도봉구', '동대문구', '동작구', '마포구', '서대문구', '서초구', '성동구', \\\n",
    "                                 '성북구', '송파구', '양천구', '영등포구', '용산구', '은평구', '종로구', '중구', '중랑구' ]\n",
    "\n",
    "traffic_r_2019.tail(2)"
   ]
  },
  {
   "cell_type": "code",
   "execution_count": 122,
   "id": "7aad8d3c",
   "metadata": {},
   "outputs": [
    {
     "data": {
      "text/plain": [
       "324652736.36"
      ]
     },
     "execution_count": 122,
     "metadata": {},
     "output_type": "execute_result"
    }
   ],
   "source": [
    "traffic_r_2019['total'].mean()"
   ]
  },
  {
   "cell_type": "code",
   "execution_count": 123,
   "id": "bcd897ac",
   "metadata": {},
   "outputs": [
    {
     "name": "stdout",
     "output_type": "stream",
     "text": [
      "2019년 평균 통행량 : 324652736 대\n"
     ]
    }
   ],
   "source": [
    "traffic_r_2019_a = round(traffic_r_2019['total'].mean())\n",
    "print(\"2019년 평균 통행량 :\", traffic_r_2019_a,\"대\")"
   ]
  },
  {
   "cell_type": "code",
   "execution_count": 124,
   "id": "a0d3522b",
   "metadata": {},
   "outputs": [
    {
     "name": "stderr",
     "output_type": "stream",
     "text": [
      "/Users/ijiyeong/opt/anaconda3/envs/jiyoung/lib/python3.7/site-packages/ipykernel_launcher.py:1: FutureWarning: Automatic reindexing on DataFrame vs Series comparisons is deprecated and will raise ValueError in a future version.  Do `left, right = left.align(right, axis=1, copy=False)` before e.g. `left == right`\n",
      "  \"\"\"Entry point for launching an IPython kernel.\n"
     ]
    },
    {
     "ename": "ValueError",
     "evalue": "Need to specify at least one of 'labels', 'index' or 'columns'",
     "output_type": "error",
     "traceback": [
      "\u001b[0;31m---------------------------------------------------------------------------\u001b[0m",
      "\u001b[0;31mValueError\u001b[0m                                Traceback (most recent call last)",
      "\u001b[0;32m<ipython-input-124-f268798ddace>\u001b[0m in \u001b[0;36m<module>\u001b[0;34m\u001b[0m\n\u001b[1;32m      1\u001b[0m \u001b[0maa\u001b[0m \u001b[0;34m=\u001b[0m \u001b[0mtraffic_r_2019\u001b[0m\u001b[0;34m[\u001b[0m\u001b[0mtraffic_r_2019\u001b[0m \u001b[0;34m>\u001b[0m \u001b[0mtraffic_r_2019\u001b[0m\u001b[0;34m.\u001b[0m\u001b[0mmean\u001b[0m\u001b[0;34m(\u001b[0m\u001b[0;34m)\u001b[0m\u001b[0;34m]\u001b[0m\u001b[0;34m\u001b[0m\u001b[0;34m\u001b[0m\u001b[0m\n\u001b[1;32m      2\u001b[0m \u001b[0maaa\u001b[0m \u001b[0;34m=\u001b[0m \u001b[0mpd\u001b[0m\u001b[0;34m.\u001b[0m\u001b[0mDataFrame\u001b[0m\u001b[0;34m(\u001b[0m\u001b[0maa\u001b[0m\u001b[0;34m,\u001b[0m \u001b[0mcolumns\u001b[0m\u001b[0;34m=\u001b[0m\u001b[0;34m[\u001b[0m\u001b[0;34m\"total\"\u001b[0m\u001b[0;34m]\u001b[0m\u001b[0;34m)\u001b[0m\u001b[0;34m\u001b[0m\u001b[0;34m\u001b[0m\u001b[0m\n\u001b[0;32m----> 3\u001b[0;31m \u001b[0maaa\u001b[0m\u001b[0;34m.\u001b[0m\u001b[0mdrop\u001b[0m\u001b[0;34m(\u001b[0m\u001b[0;34m)\u001b[0m\u001b[0;34m\u001b[0m\u001b[0;34m\u001b[0m\u001b[0m\n\u001b[0m\u001b[1;32m      4\u001b[0m \u001b[0;34m\u001b[0m\u001b[0m\n\u001b[1;32m      5\u001b[0m \u001b[0maaa\u001b[0m\u001b[0;34m\u001b[0m\u001b[0;34m\u001b[0m\u001b[0m\n",
      "\u001b[0;32m~/opt/anaconda3/envs/jiyoung/lib/python3.7/site-packages/pandas/core/frame.py\u001b[0m in \u001b[0;36mdrop\u001b[0;34m(self, labels, axis, index, columns, level, inplace, errors)\u001b[0m\n\u001b[1;32m   4313\u001b[0m             \u001b[0mlevel\u001b[0m\u001b[0;34m=\u001b[0m\u001b[0mlevel\u001b[0m\u001b[0;34m,\u001b[0m\u001b[0;34m\u001b[0m\u001b[0;34m\u001b[0m\u001b[0m\n\u001b[1;32m   4314\u001b[0m             \u001b[0minplace\u001b[0m\u001b[0;34m=\u001b[0m\u001b[0minplace\u001b[0m\u001b[0;34m,\u001b[0m\u001b[0;34m\u001b[0m\u001b[0;34m\u001b[0m\u001b[0m\n\u001b[0;32m-> 4315\u001b[0;31m             \u001b[0merrors\u001b[0m\u001b[0;34m=\u001b[0m\u001b[0merrors\u001b[0m\u001b[0;34m,\u001b[0m\u001b[0;34m\u001b[0m\u001b[0;34m\u001b[0m\u001b[0m\n\u001b[0m\u001b[1;32m   4316\u001b[0m         )\n\u001b[1;32m   4317\u001b[0m \u001b[0;34m\u001b[0m\u001b[0m\n",
      "\u001b[0;32m~/opt/anaconda3/envs/jiyoung/lib/python3.7/site-packages/pandas/core/generic.py\u001b[0m in \u001b[0;36mdrop\u001b[0;34m(self, labels, axis, index, columns, level, inplace, errors)\u001b[0m\n\u001b[1;32m   4144\u001b[0m         \u001b[0;32melse\u001b[0m\u001b[0;34m:\u001b[0m\u001b[0;34m\u001b[0m\u001b[0;34m\u001b[0m\u001b[0m\n\u001b[1;32m   4145\u001b[0m             raise ValueError(\n\u001b[0;32m-> 4146\u001b[0;31m                 \u001b[0;34m\"Need to specify at least one of 'labels', 'index' or 'columns'\"\u001b[0m\u001b[0;34m\u001b[0m\u001b[0;34m\u001b[0m\u001b[0m\n\u001b[0m\u001b[1;32m   4147\u001b[0m             )\n\u001b[1;32m   4148\u001b[0m \u001b[0;34m\u001b[0m\u001b[0m\n",
      "\u001b[0;31mValueError\u001b[0m: Need to specify at least one of 'labels', 'index' or 'columns'"
     ]
    }
   ],
   "source": [
    "aa = traffic_r_2019[traffic_r_2019 > traffic_r_2019.mean()]\n",
    "aaa = pd.DataFrame(aa, columns=[\"total\"])\n",
    "aaa.drop()\n",
    "\n",
    "aaa"
   ]
  },
  {
   "cell_type": "code",
   "execution_count": 125,
   "id": "6dab4f1a",
   "metadata": {},
   "outputs": [
    {
     "data": {
      "text/html": [
       "<div>\n",
       "<style scoped>\n",
       "    .dataframe tbody tr th:only-of-type {\n",
       "        vertical-align: middle;\n",
       "    }\n",
       "\n",
       "    .dataframe tbody tr th {\n",
       "        vertical-align: top;\n",
       "    }\n",
       "\n",
       "    .dataframe thead th {\n",
       "        text-align: right;\n",
       "    }\n",
       "</style>\n",
       "<table border=\"1\" class=\"dataframe\">\n",
       "  <thead>\n",
       "    <tr style=\"text-align: right;\">\n",
       "      <th>시간</th>\n",
       "      <th>0</th>\n",
       "      <th>1</th>\n",
       "      <th>2</th>\n",
       "      <th>3</th>\n",
       "      <th>4</th>\n",
       "      <th>5</th>\n",
       "      <th>6</th>\n",
       "      <th>7</th>\n",
       "      <th>8</th>\n",
       "      <th>9</th>\n",
       "      <th>...</th>\n",
       "      <th>16</th>\n",
       "      <th>17</th>\n",
       "      <th>18</th>\n",
       "      <th>19</th>\n",
       "      <th>20</th>\n",
       "      <th>21</th>\n",
       "      <th>22</th>\n",
       "      <th>23</th>\n",
       "      <th>total</th>\n",
       "      <th>region</th>\n",
       "    </tr>\n",
       "    <tr>\n",
       "      <th>지명</th>\n",
       "      <th></th>\n",
       "      <th></th>\n",
       "      <th></th>\n",
       "      <th></th>\n",
       "      <th></th>\n",
       "      <th></th>\n",
       "      <th></th>\n",
       "      <th></th>\n",
       "      <th></th>\n",
       "      <th></th>\n",
       "      <th></th>\n",
       "      <th></th>\n",
       "      <th></th>\n",
       "      <th></th>\n",
       "      <th></th>\n",
       "      <th></th>\n",
       "      <th></th>\n",
       "      <th></th>\n",
       "      <th></th>\n",
       "      <th></th>\n",
       "      <th></th>\n",
       "    </tr>\n",
       "  </thead>\n",
       "  <tbody>\n",
       "    <tr>\n",
       "      <th>중구</th>\n",
       "      <td>1030686</td>\n",
       "      <td>267406</td>\n",
       "      <td>125901</td>\n",
       "      <td>144638</td>\n",
       "      <td>524518</td>\n",
       "      <td>2845992</td>\n",
       "      <td>6134273</td>\n",
       "      <td>15971819</td>\n",
       "      <td>33999864</td>\n",
       "      <td>20472449</td>\n",
       "      <td>...</td>\n",
       "      <td>17012446</td>\n",
       "      <td>23538009</td>\n",
       "      <td>33093127</td>\n",
       "      <td>18656846</td>\n",
       "      <td>13260295</td>\n",
       "      <td>11477169</td>\n",
       "      <td>8628758</td>\n",
       "      <td>4649330</td>\n",
       "      <td>295154710</td>\n",
       "      <td>중구</td>\n",
       "    </tr>\n",
       "    <tr>\n",
       "      <th>중랑구</th>\n",
       "      <td>999460</td>\n",
       "      <td>179205</td>\n",
       "      <td>71499</td>\n",
       "      <td>63145</td>\n",
       "      <td>722886</td>\n",
       "      <td>2550547</td>\n",
       "      <td>4890796</td>\n",
       "      <td>10808463</td>\n",
       "      <td>14961209</td>\n",
       "      <td>8788647</td>\n",
       "      <td>...</td>\n",
       "      <td>8997200</td>\n",
       "      <td>10484633</td>\n",
       "      <td>13326202</td>\n",
       "      <td>11698006</td>\n",
       "      <td>7464722</td>\n",
       "      <td>6621289</td>\n",
       "      <td>5495151</td>\n",
       "      <td>3253670</td>\n",
       "      <td>153829883</td>\n",
       "      <td>중랑구</td>\n",
       "    </tr>\n",
       "  </tbody>\n",
       "</table>\n",
       "<p>2 rows × 26 columns</p>\n",
       "</div>"
      ],
      "text/plain": [
       "시간         0       1       2       3       4        5        6         7  \\\n",
       "지명                                                                         \n",
       "중구   1030686  267406  125901  144638  524518  2845992  6134273  15971819   \n",
       "중랑구   999460  179205   71499   63145  722886  2550547  4890796  10808463   \n",
       "\n",
       "시간          8         9  ...        16        17        18        19  \\\n",
       "지명                       ...                                           \n",
       "중구   33999864  20472449  ...  17012446  23538009  33093127  18656846   \n",
       "중랑구  14961209   8788647  ...   8997200  10484633  13326202  11698006   \n",
       "\n",
       "시간         20        21       22       23      total  region  \n",
       "지명                                                            \n",
       "중구   13260295  11477169  8628758  4649330  295154710      중구  \n",
       "중랑구   7464722   6621289  5495151  3253670  153829883     중랑구  \n",
       "\n",
       "[2 rows x 26 columns]"
      ]
     },
     "execution_count": 125,
     "metadata": {},
     "output_type": "execute_result"
    }
   ],
   "source": [
    "traffic_r_2020.loc[:,'region'] = ['강남구', '강동구', '강북구', '강서구', '관악구', '광진구', '구로구', '금천구', \\\n",
    "                                   '노원구', '도봉구', '동대문구', '동작구', '마포구', '서대문구', '서초구', '성동구', \\\n",
    "                                 '성북구', '송파구', '양천구', '영등포구', '용산구', '은평구', '종로구', '중구', '중랑구' ]\n",
    "\n",
    "traffic_r_2020.tail(2)"
   ]
  },
  {
   "cell_type": "code",
   "execution_count": 126,
   "id": "054adaaf",
   "metadata": {},
   "outputs": [
    {
     "data": {
      "text/plain": [
       "240028655.48"
      ]
     },
     "execution_count": 126,
     "metadata": {},
     "output_type": "execute_result"
    }
   ],
   "source": [
    "traffic_r_2020['total'].mean()"
   ]
  },
  {
   "cell_type": "code",
   "execution_count": 127,
   "id": "d538ade0",
   "metadata": {},
   "outputs": [
    {
     "name": "stdout",
     "output_type": "stream",
     "text": [
      "2020년 평균 통행량 : 240028655 대\n"
     ]
    }
   ],
   "source": [
    "traffic_r_2020_a = round(traffic_r_2020['total'].mean())\n",
    "print(\"2020년 평균 통행량 :\", traffic_r_2020_a,\"대\")"
   ]
  },
  {
   "cell_type": "code",
   "execution_count": 126,
   "id": "15162fbd",
   "metadata": {},
   "outputs": [
    {
     "data": {
      "text/html": [
       "<div>\n",
       "<style scoped>\n",
       "    .dataframe tbody tr th:only-of-type {\n",
       "        vertical-align: middle;\n",
       "    }\n",
       "\n",
       "    .dataframe tbody tr th {\n",
       "        vertical-align: top;\n",
       "    }\n",
       "\n",
       "    .dataframe thead th {\n",
       "        text-align: right;\n",
       "    }\n",
       "</style>\n",
       "<table border=\"1\" class=\"dataframe\">\n",
       "  <thead>\n",
       "    <tr style=\"text-align: right;\">\n",
       "      <th>시간</th>\n",
       "      <th>0</th>\n",
       "      <th>1</th>\n",
       "      <th>2</th>\n",
       "      <th>3</th>\n",
       "      <th>4</th>\n",
       "      <th>5</th>\n",
       "      <th>6</th>\n",
       "      <th>7</th>\n",
       "      <th>8</th>\n",
       "      <th>9</th>\n",
       "      <th>...</th>\n",
       "      <th>15</th>\n",
       "      <th>16</th>\n",
       "      <th>17</th>\n",
       "      <th>18</th>\n",
       "      <th>19</th>\n",
       "      <th>20</th>\n",
       "      <th>21</th>\n",
       "      <th>22</th>\n",
       "      <th>23</th>\n",
       "      <th>total</th>\n",
       "    </tr>\n",
       "    <tr>\n",
       "      <th>월</th>\n",
       "      <th></th>\n",
       "      <th></th>\n",
       "      <th></th>\n",
       "      <th></th>\n",
       "      <th></th>\n",
       "      <th></th>\n",
       "      <th></th>\n",
       "      <th></th>\n",
       "      <th></th>\n",
       "      <th></th>\n",
       "      <th></th>\n",
       "      <th></th>\n",
       "      <th></th>\n",
       "      <th></th>\n",
       "      <th></th>\n",
       "      <th></th>\n",
       "      <th></th>\n",
       "      <th></th>\n",
       "      <th></th>\n",
       "      <th></th>\n",
       "      <th></th>\n",
       "    </tr>\n",
       "  </thead>\n",
       "  <tbody>\n",
       "    <tr>\n",
       "      <th>2019-08</th>\n",
       "      <td>5105209</td>\n",
       "      <td>688939</td>\n",
       "      <td>245753</td>\n",
       "      <td>186918</td>\n",
       "      <td>1536615</td>\n",
       "      <td>7387880</td>\n",
       "      <td>15982873</td>\n",
       "      <td>36095360</td>\n",
       "      <td>56208713</td>\n",
       "      <td>39227569</td>\n",
       "      <td>...</td>\n",
       "      <td>35924552</td>\n",
       "      <td>40757424</td>\n",
       "      <td>47953701</td>\n",
       "      <td>63356494</td>\n",
       "      <td>48285379</td>\n",
       "      <td>34428917</td>\n",
       "      <td>32232130</td>\n",
       "      <td>30252107</td>\n",
       "      <td>17682593</td>\n",
       "      <td>669297037</td>\n",
       "    </tr>\n",
       "    <tr>\n",
       "      <th>2019-09</th>\n",
       "      <td>4453210</td>\n",
       "      <td>623343</td>\n",
       "      <td>221117</td>\n",
       "      <td>169140</td>\n",
       "      <td>1431441</td>\n",
       "      <td>6804565</td>\n",
       "      <td>15271208</td>\n",
       "      <td>37232347</td>\n",
       "      <td>57404562</td>\n",
       "      <td>39297270</td>\n",
       "      <td>...</td>\n",
       "      <td>35155529</td>\n",
       "      <td>40515768</td>\n",
       "      <td>46359714</td>\n",
       "      <td>59053287</td>\n",
       "      <td>44447950</td>\n",
       "      <td>31479458</td>\n",
       "      <td>29519715</td>\n",
       "      <td>27297536</td>\n",
       "      <td>15584100</td>\n",
       "      <td>643258619</td>\n",
       "    </tr>\n",
       "    <tr>\n",
       "      <th>2019-10</th>\n",
       "      <td>4738982</td>\n",
       "      <td>652732</td>\n",
       "      <td>238243</td>\n",
       "      <td>188198</td>\n",
       "      <td>1616618</td>\n",
       "      <td>7789686</td>\n",
       "      <td>17013259</td>\n",
       "      <td>40865961</td>\n",
       "      <td>64728349</td>\n",
       "      <td>44640977</td>\n",
       "      <td>...</td>\n",
       "      <td>38958128</td>\n",
       "      <td>44530852</td>\n",
       "      <td>51164639</td>\n",
       "      <td>65020305</td>\n",
       "      <td>47833042</td>\n",
       "      <td>34125960</td>\n",
       "      <td>32135625</td>\n",
       "      <td>29594112</td>\n",
       "      <td>16824050</td>\n",
       "      <td>711970874</td>\n",
       "    </tr>\n",
       "    <tr>\n",
       "      <th>2019-11</th>\n",
       "      <td>4673046</td>\n",
       "      <td>632269</td>\n",
       "      <td>226815</td>\n",
       "      <td>178204</td>\n",
       "      <td>1545112</td>\n",
       "      <td>7373998</td>\n",
       "      <td>16015572</td>\n",
       "      <td>38847628</td>\n",
       "      <td>63980335</td>\n",
       "      <td>44391584</td>\n",
       "      <td>...</td>\n",
       "      <td>37621012</td>\n",
       "      <td>43101411</td>\n",
       "      <td>50394656</td>\n",
       "      <td>63666940</td>\n",
       "      <td>46147509</td>\n",
       "      <td>32524277</td>\n",
       "      <td>30650650</td>\n",
       "      <td>28400139</td>\n",
       "      <td>16392559</td>\n",
       "      <td>690195489</td>\n",
       "    </tr>\n",
       "    <tr>\n",
       "      <th>2019-12</th>\n",
       "      <td>5374999</td>\n",
       "      <td>894129</td>\n",
       "      <td>284658</td>\n",
       "      <td>205711</td>\n",
       "      <td>1508785</td>\n",
       "      <td>7102122</td>\n",
       "      <td>15312007</td>\n",
       "      <td>36548547</td>\n",
       "      <td>61293678</td>\n",
       "      <td>42821402</td>\n",
       "      <td>...</td>\n",
       "      <td>39572005</td>\n",
       "      <td>44295328</td>\n",
       "      <td>51354740</td>\n",
       "      <td>63240031</td>\n",
       "      <td>45627653</td>\n",
       "      <td>32970482</td>\n",
       "      <td>31787814</td>\n",
       "      <td>29838776</td>\n",
       "      <td>17951621</td>\n",
       "      <td>697837963</td>\n",
       "    </tr>\n",
       "  </tbody>\n",
       "</table>\n",
       "<p>5 rows × 25 columns</p>\n",
       "</div>"
      ],
      "text/plain": [
       "시간             0       1       2       3        4        5         6  \\\n",
       "월                                                                      \n",
       "2019-08  5105209  688939  245753  186918  1536615  7387880  15982873   \n",
       "2019-09  4453210  623343  221117  169140  1431441  6804565  15271208   \n",
       "2019-10  4738982  652732  238243  188198  1616618  7789686  17013259   \n",
       "2019-11  4673046  632269  226815  178204  1545112  7373998  16015572   \n",
       "2019-12  5374999  894129  284658  205711  1508785  7102122  15312007   \n",
       "\n",
       "시간              7         8         9  ...        15        16        17  \\\n",
       "월                                      ...                                 \n",
       "2019-08  36095360  56208713  39227569  ...  35924552  40757424  47953701   \n",
       "2019-09  37232347  57404562  39297270  ...  35155529  40515768  46359714   \n",
       "2019-10  40865961  64728349  44640977  ...  38958128  44530852  51164639   \n",
       "2019-11  38847628  63980335  44391584  ...  37621012  43101411  50394656   \n",
       "2019-12  36548547  61293678  42821402  ...  39572005  44295328  51354740   \n",
       "\n",
       "시간             18        19        20        21        22        23      total  \n",
       "월                                                                               \n",
       "2019-08  63356494  48285379  34428917  32232130  30252107  17682593  669297037  \n",
       "2019-09  59053287  44447950  31479458  29519715  27297536  15584100  643258619  \n",
       "2019-10  65020305  47833042  34125960  32135625  29594112  16824050  711970874  \n",
       "2019-11  63666940  46147509  32524277  30650650  28400139  16392559  690195489  \n",
       "2019-12  63240031  45627653  32970482  31787814  29838776  17951621  697837963  \n",
       "\n",
       "[5 rows x 25 columns]"
      ]
     },
     "execution_count": 126,
     "metadata": {},
     "output_type": "execute_result"
    }
   ],
   "source": [
    "traffic_m_2019.tail()"
   ]
  },
  {
   "cell_type": "code",
   "execution_count": 127,
   "id": "f2756a81",
   "metadata": {
    "scrolled": false
   },
   "outputs": [
    {
     "data": {
      "text/html": [
       "<div>\n",
       "<style scoped>\n",
       "    .dataframe tbody tr th:only-of-type {\n",
       "        vertical-align: middle;\n",
       "    }\n",
       "\n",
       "    .dataframe tbody tr th {\n",
       "        vertical-align: top;\n",
       "    }\n",
       "\n",
       "    .dataframe thead th {\n",
       "        text-align: right;\n",
       "    }\n",
       "</style>\n",
       "<table border=\"1\" class=\"dataframe\">\n",
       "  <thead>\n",
       "    <tr style=\"text-align: right;\">\n",
       "      <th>시간</th>\n",
       "      <th>0</th>\n",
       "      <th>1</th>\n",
       "      <th>2</th>\n",
       "      <th>3</th>\n",
       "      <th>4</th>\n",
       "      <th>5</th>\n",
       "      <th>6</th>\n",
       "      <th>7</th>\n",
       "      <th>8</th>\n",
       "      <th>9</th>\n",
       "      <th>...</th>\n",
       "      <th>15</th>\n",
       "      <th>16</th>\n",
       "      <th>17</th>\n",
       "      <th>18</th>\n",
       "      <th>19</th>\n",
       "      <th>20</th>\n",
       "      <th>21</th>\n",
       "      <th>22</th>\n",
       "      <th>23</th>\n",
       "      <th>total</th>\n",
       "    </tr>\n",
       "    <tr>\n",
       "      <th>지명</th>\n",
       "      <th></th>\n",
       "      <th></th>\n",
       "      <th></th>\n",
       "      <th></th>\n",
       "      <th></th>\n",
       "      <th></th>\n",
       "      <th></th>\n",
       "      <th></th>\n",
       "      <th></th>\n",
       "      <th></th>\n",
       "      <th></th>\n",
       "      <th></th>\n",
       "      <th></th>\n",
       "      <th></th>\n",
       "      <th></th>\n",
       "      <th></th>\n",
       "      <th></th>\n",
       "      <th></th>\n",
       "      <th></th>\n",
       "      <th></th>\n",
       "      <th></th>\n",
       "    </tr>\n",
       "  </thead>\n",
       "  <tbody>\n",
       "    <tr>\n",
       "      <th>용산구</th>\n",
       "      <td>1735436</td>\n",
       "      <td>151494</td>\n",
       "      <td>49239</td>\n",
       "      <td>49862</td>\n",
       "      <td>247247</td>\n",
       "      <td>2144038</td>\n",
       "      <td>4951238</td>\n",
       "      <td>10798631</td>\n",
       "      <td>18900867</td>\n",
       "      <td>14160427</td>\n",
       "      <td>...</td>\n",
       "      <td>14602340</td>\n",
       "      <td>17075819</td>\n",
       "      <td>19903425</td>\n",
       "      <td>26063606</td>\n",
       "      <td>18956573</td>\n",
       "      <td>13831884</td>\n",
       "      <td>13362461</td>\n",
       "      <td>11825542</td>\n",
       "      <td>7015315</td>\n",
       "      <td>255899795</td>\n",
       "    </tr>\n",
       "    <tr>\n",
       "      <th>은평구</th>\n",
       "      <td>1809192</td>\n",
       "      <td>281034</td>\n",
       "      <td>92770</td>\n",
       "      <td>36578</td>\n",
       "      <td>955092</td>\n",
       "      <td>3605830</td>\n",
       "      <td>8885965</td>\n",
       "      <td>21584794</td>\n",
       "      <td>30165645</td>\n",
       "      <td>19608069</td>\n",
       "      <td>...</td>\n",
       "      <td>14286650</td>\n",
       "      <td>16408235</td>\n",
       "      <td>17298493</td>\n",
       "      <td>19033814</td>\n",
       "      <td>15867615</td>\n",
       "      <td>11346273</td>\n",
       "      <td>10397447</td>\n",
       "      <td>9601781</td>\n",
       "      <td>5713871</td>\n",
       "      <td>275144775</td>\n",
       "    </tr>\n",
       "    <tr>\n",
       "      <th>종로구</th>\n",
       "      <td>3555000</td>\n",
       "      <td>781287</td>\n",
       "      <td>300532</td>\n",
       "      <td>255086</td>\n",
       "      <td>690467</td>\n",
       "      <td>3010389</td>\n",
       "      <td>5163036</td>\n",
       "      <td>11067737</td>\n",
       "      <td>20130104</td>\n",
       "      <td>16255880</td>\n",
       "      <td>...</td>\n",
       "      <td>27788412</td>\n",
       "      <td>30934635</td>\n",
       "      <td>35694359</td>\n",
       "      <td>45903551</td>\n",
       "      <td>31696066</td>\n",
       "      <td>22481335</td>\n",
       "      <td>22577091</td>\n",
       "      <td>20628682</td>\n",
       "      <td>11537063</td>\n",
       "      <td>410146010</td>\n",
       "    </tr>\n",
       "    <tr>\n",
       "      <th>중구</th>\n",
       "      <td>3518016</td>\n",
       "      <td>572340</td>\n",
       "      <td>239087</td>\n",
       "      <td>215153</td>\n",
       "      <td>501450</td>\n",
       "      <td>3155734</td>\n",
       "      <td>5716093</td>\n",
       "      <td>12502745</td>\n",
       "      <td>25150575</td>\n",
       "      <td>18739397</td>\n",
       "      <td>...</td>\n",
       "      <td>26960738</td>\n",
       "      <td>29865336</td>\n",
       "      <td>37557276</td>\n",
       "      <td>55470515</td>\n",
       "      <td>38990793</td>\n",
       "      <td>27587356</td>\n",
       "      <td>25132393</td>\n",
       "      <td>21287791</td>\n",
       "      <td>12756123</td>\n",
       "      <td>447485581</td>\n",
       "    </tr>\n",
       "    <tr>\n",
       "      <th>중랑구</th>\n",
       "      <td>1429246</td>\n",
       "      <td>237634</td>\n",
       "      <td>75320</td>\n",
       "      <td>66496</td>\n",
       "      <td>865449</td>\n",
       "      <td>3163495</td>\n",
       "      <td>6457136</td>\n",
       "      <td>15182553</td>\n",
       "      <td>22283249</td>\n",
       "      <td>13902473</td>\n",
       "      <td>...</td>\n",
       "      <td>10034266</td>\n",
       "      <td>11444769</td>\n",
       "      <td>12500258</td>\n",
       "      <td>14244402</td>\n",
       "      <td>12439521</td>\n",
       "      <td>8442147</td>\n",
       "      <td>7587105</td>\n",
       "      <td>6741702</td>\n",
       "      <td>3980054</td>\n",
       "      <td>199074236</td>\n",
       "    </tr>\n",
       "  </tbody>\n",
       "</table>\n",
       "<p>5 rows × 25 columns</p>\n",
       "</div>"
      ],
      "text/plain": [
       "시간         0       1       2       3       4        5        6         7  \\\n",
       "지명                                                                         \n",
       "용산구  1735436  151494   49239   49862  247247  2144038  4951238  10798631   \n",
       "은평구  1809192  281034   92770   36578  955092  3605830  8885965  21584794   \n",
       "종로구  3555000  781287  300532  255086  690467  3010389  5163036  11067737   \n",
       "중구   3518016  572340  239087  215153  501450  3155734  5716093  12502745   \n",
       "중랑구  1429246  237634   75320   66496  865449  3163495  6457136  15182553   \n",
       "\n",
       "시간          8         9  ...        15        16        17        18  \\\n",
       "지명                       ...                                           \n",
       "용산구  18900867  14160427  ...  14602340  17075819  19903425  26063606   \n",
       "은평구  30165645  19608069  ...  14286650  16408235  17298493  19033814   \n",
       "종로구  20130104  16255880  ...  27788412  30934635  35694359  45903551   \n",
       "중구   25150575  18739397  ...  26960738  29865336  37557276  55470515   \n",
       "중랑구  22283249  13902473  ...  10034266  11444769  12500258  14244402   \n",
       "\n",
       "시간         19        20        21        22        23      total  \n",
       "지명                                                                \n",
       "용산구  18956573  13831884  13362461  11825542   7015315  255899795  \n",
       "은평구  15867615  11346273  10397447   9601781   5713871  275144775  \n",
       "종로구  31696066  22481335  22577091  20628682  11537063  410146010  \n",
       "중구   38990793  27587356  25132393  21287791  12756123  447485581  \n",
       "중랑구  12439521   8442147   7587105   6741702   3980054  199074236  \n",
       "\n",
       "[5 rows x 25 columns]"
      ]
     },
     "execution_count": 127,
     "metadata": {},
     "output_type": "execute_result"
    }
   ],
   "source": [
    "traffic_r_2019.tail()"
   ]
  },
  {
   "cell_type": "code",
   "execution_count": 128,
   "id": "5855aebd",
   "metadata": {},
   "outputs": [
    {
     "data": {
      "text/html": [
       "<div>\n",
       "<style scoped>\n",
       "    .dataframe tbody tr th:only-of-type {\n",
       "        vertical-align: middle;\n",
       "    }\n",
       "\n",
       "    .dataframe tbody tr th {\n",
       "        vertical-align: top;\n",
       "    }\n",
       "\n",
       "    .dataframe thead th {\n",
       "        text-align: right;\n",
       "    }\n",
       "</style>\n",
       "<table border=\"1\" class=\"dataframe\">\n",
       "  <thead>\n",
       "    <tr style=\"text-align: right;\">\n",
       "      <th></th>\n",
       "      <th>total</th>\n",
       "    </tr>\n",
       "    <tr>\n",
       "      <th>월</th>\n",
       "      <th></th>\n",
       "    </tr>\n",
       "  </thead>\n",
       "  <tbody>\n",
       "    <tr>\n",
       "      <th>2019-03</th>\n",
       "      <td>695974373</td>\n",
       "    </tr>\n",
       "    <tr>\n",
       "      <th>2019-04</th>\n",
       "      <td>699471154</td>\n",
       "    </tr>\n",
       "    <tr>\n",
       "      <th>2019-05</th>\n",
       "      <td>719349046</td>\n",
       "    </tr>\n",
       "    <tr>\n",
       "      <th>2019-07</th>\n",
       "      <td>695624147</td>\n",
       "    </tr>\n",
       "    <tr>\n",
       "      <th>2019-10</th>\n",
       "      <td>711970874</td>\n",
       "    </tr>\n",
       "    <tr>\n",
       "      <th>2019-11</th>\n",
       "      <td>690195489</td>\n",
       "    </tr>\n",
       "    <tr>\n",
       "      <th>2019-12</th>\n",
       "      <td>697837963</td>\n",
       "    </tr>\n",
       "  </tbody>\n",
       "</table>\n",
       "</div>"
      ],
      "text/plain": [
       "             total\n",
       "월                 \n",
       "2019-03  695974373\n",
       "2019-04  699471154\n",
       "2019-05  719349046\n",
       "2019-07  695624147\n",
       "2019-10  711970874\n",
       "2019-11  690195489\n",
       "2019-12  697837963"
      ]
     },
     "execution_count": 128,
     "metadata": {},
     "output_type": "execute_result"
    }
   ],
   "source": [
    "dfdf_2019 = traffic_m_2019[traffic_m_2019[\"total\"] > traffic_m_2019[\"total\"].mean()]\n",
    "dfdfdf_2019 = pd.DataFrame(dfdf_2019, columns=[\"total\"])\n",
    "dfdfdf_2019"
   ]
  },
  {
   "cell_type": "code",
   "execution_count": 129,
   "id": "236ed5a6",
   "metadata": {},
   "outputs": [
    {
     "data": {
      "text/html": [
       "<div>\n",
       "<style scoped>\n",
       "    .dataframe tbody tr th:only-of-type {\n",
       "        vertical-align: middle;\n",
       "    }\n",
       "\n",
       "    .dataframe tbody tr th {\n",
       "        vertical-align: top;\n",
       "    }\n",
       "\n",
       "    .dataframe thead th {\n",
       "        text-align: right;\n",
       "    }\n",
       "</style>\n",
       "<table border=\"1\" class=\"dataframe\">\n",
       "  <thead>\n",
       "    <tr style=\"text-align: right;\">\n",
       "      <th></th>\n",
       "      <th>total</th>\n",
       "    </tr>\n",
       "    <tr>\n",
       "      <th>지명</th>\n",
       "      <th></th>\n",
       "    </tr>\n",
       "  </thead>\n",
       "  <tbody>\n",
       "    <tr>\n",
       "      <th>강남구</th>\n",
       "      <td>567110115</td>\n",
       "    </tr>\n",
       "    <tr>\n",
       "      <th>강서구</th>\n",
       "      <td>260342153</td>\n",
       "    </tr>\n",
       "    <tr>\n",
       "      <th>관악구</th>\n",
       "      <td>289329188</td>\n",
       "    </tr>\n",
       "    <tr>\n",
       "      <th>구로구</th>\n",
       "      <td>283206229</td>\n",
       "    </tr>\n",
       "    <tr>\n",
       "      <th>마포구</th>\n",
       "      <td>290281580</td>\n",
       "    </tr>\n",
       "    <tr>\n",
       "      <th>서초구</th>\n",
       "      <td>368079647</td>\n",
       "    </tr>\n",
       "    <tr>\n",
       "      <th>송파구</th>\n",
       "      <td>351362444</td>\n",
       "    </tr>\n",
       "    <tr>\n",
       "      <th>영등포구</th>\n",
       "      <td>311535742</td>\n",
       "    </tr>\n",
       "    <tr>\n",
       "      <th>종로구</th>\n",
       "      <td>280859306</td>\n",
       "    </tr>\n",
       "    <tr>\n",
       "      <th>중구</th>\n",
       "      <td>295154710</td>\n",
       "    </tr>\n",
       "  </tbody>\n",
       "</table>\n",
       "</div>"
      ],
      "text/plain": [
       "          total\n",
       "지명             \n",
       "강남구   567110115\n",
       "강서구   260342153\n",
       "관악구   289329188\n",
       "구로구   283206229\n",
       "마포구   290281580\n",
       "서초구   368079647\n",
       "송파구   351362444\n",
       "영등포구  311535742\n",
       "종로구   280859306\n",
       "중구    295154710"
      ]
     },
     "execution_count": 129,
     "metadata": {},
     "output_type": "execute_result"
    }
   ],
   "source": [
    "bb = traffic_r_2020[traffic_r_2020[\"total\"] > traffic_r_2020[\"total\"].mean()]\n",
    "bbb = pd.DataFrame(bb, columns=[\"total\"])\n",
    "bbb"
   ]
  },
  {
   "cell_type": "code",
   "execution_count": 129,
   "id": "82aca5a1",
   "metadata": {},
   "outputs": [
    {
     "data": {
      "image/png": "[encoded data removed]",
      "text/plain": [
       "<Figure size 1440x360 with 1 Axes>"
      ]
     },
     "metadata": {
      "image/png": {
       "height": 313,
       "width": 1142
      },
      "needs_background": "light"
     },
     "output_type": "display_data"
    }
   ],
   "source": [
    "plt.figure(figsize=(20, 5))\n",
    "\n",
    "X = ['강남구', '강동구', '강북구', '강서구', '관악구', '광진구', '구로구', '금천구', \\\n",
    "    '노원구', '도봉구', '동대문구', '동작구', '마포구', '서대문구', '서초구', '성동구', \\\n",
    "    '성북구', '송파구', '양천구', '영등포구', '용산구', '은평구', '종로구', '중구', '중랑구' ]\n",
    "\n",
    "plt.bar(X, traffic_r_2019[\"total\"])\n",
    "plt.bar(X, traffic_r_2020[\"total\"])\n",
    "\n",
    "\n",
    "#plt.bar(traffic_r_2019[\"region\"], traffic_r_2019[\"total\"])\n",
    "#plt.bar(traffic_r_2020[\"region\"], traffic_r_2020[\"total\"])\n",
    "#plt.legend()\n",
    "plt.axhline(y=traffic_r_2019['total'].mean(), color='g', linewidth=1) #label=\"2019\")\n",
    "plt.axhline(y=traffic_r_2020['total'].mean(), color='r', linewidth=1) #label=\"2020\")\n",
    "\n",
    "\n",
    "plt.show()"
   ]
  },
  {
   "cell_type": "code",
   "execution_count": 130,
   "id": "51f9f0aa",
   "metadata": {},
   "outputs": [],
   "source": [
    "#4.2 지역별 차량 교통량 비교"
   ]
  },
  {
   "cell_type": "code",
   "execution_count": 131,
   "id": "musical-martin",
   "metadata": {},
   "outputs": [],
   "source": [
    "ddf_2019 = traffic_2019"
   ]
  },
  {
   "cell_type": "code",
   "execution_count": 132,
   "id": "needed-savage",
   "metadata": {},
   "outputs": [
    {
     "data": {
      "text/html": [
       "<div>\n",
       "<style scoped>\n",
       "    .dataframe tbody tr th:only-of-type {\n",
       "        vertical-align: middle;\n",
       "    }\n",
       "\n",
       "    .dataframe tbody tr th {\n",
       "        vertical-align: top;\n",
       "    }\n",
       "\n",
       "    .dataframe thead th {\n",
       "        text-align: right;\n",
       "    }\n",
       "</style>\n",
       "<table border=\"1\" class=\"dataframe\">\n",
       "  <thead>\n",
       "    <tr style=\"text-align: right;\">\n",
       "      <th></th>\n",
       "      <th>구</th>\n",
       "      <th>총합</th>\n",
       "    </tr>\n",
       "  </thead>\n",
       "  <tbody>\n",
       "    <tr>\n",
       "      <th>27</th>\n",
       "      <td>금천구</td>\n",
       "      <td>27050329</td>\n",
       "    </tr>\n",
       "    <tr>\n",
       "      <th>28</th>\n",
       "      <td>동대문구</td>\n",
       "      <td>51638629</td>\n",
       "    </tr>\n",
       "    <tr>\n",
       "      <th>29</th>\n",
       "      <td>서대문구</td>\n",
       "      <td>90434112</td>\n",
       "    </tr>\n",
       "    <tr>\n",
       "      <th>30</th>\n",
       "      <td>영등포구</td>\n",
       "      <td>258662532</td>\n",
       "    </tr>\n",
       "    <tr>\n",
       "      <th>31</th>\n",
       "      <td>중구</td>\n",
       "      <td>164525130</td>\n",
       "    </tr>\n",
       "  </tbody>\n",
       "</table>\n",
       "</div>"
      ],
      "text/plain": [
       "       구         총합\n",
       "27   금천구   27050329\n",
       "28  동대문구   51638629\n",
       "29  서대문구   90434112\n",
       "30  영등포구  258662532\n",
       "31    중구  164525130"
      ]
     },
     "execution_count": 132,
     "metadata": {},
     "output_type": "execute_result"
    }
   ],
   "source": [
    "ddf_2019 = ddf_2019.pivot_table(\"총합\",\"구\",aggfunc=np.sum)\n",
    "ddf_2019 = ddf_2019.reset_index()\n",
    "ddf_2019.tail()"
   ]
  },
  {
   "cell_type": "code",
   "execution_count": 133,
   "id": "requested-delta",
   "metadata": {},
   "outputs": [
    {
     "name": "stdout",
     "output_type": "stream",
     "text": [
      "2019년 평균 통행량 : 108493738 대\n"
     ]
    }
   ],
   "source": [
    "gein_tans_2019 = round(ddf_2019[\"총합\"].mean())\n",
    "print(\"2019년 평균 통행량 :\", gein_tans_2019,\"대\")"
   ]
  },
  {
   "cell_type": "code",
   "execution_count": 134,
   "id": "supreme-begin",
   "metadata": {},
   "outputs": [
    {
     "name": "stdout",
     "output_type": "stream",
     "text": [
      "2020년 평균 통행량 : 240028655 대\n"
     ]
    }
   ],
   "source": [
    "traffic_r_2020_a = round(traffic_r_2020['total'].mean())\n",
    "print(\"2020년 평균 통행량 :\", traffic_r_2020_a,\"대\")"
   ]
  },
  {
   "cell_type": "code",
   "execution_count": 135,
   "id": "decent-niagara",
   "metadata": {},
   "outputs": [
    {
     "data": {
      "text/html": [
       "<div>\n",
       "<style scoped>\n",
       "    .dataframe tbody tr th:only-of-type {\n",
       "        vertical-align: middle;\n",
       "    }\n",
       "\n",
       "    .dataframe tbody tr th {\n",
       "        vertical-align: top;\n",
       "    }\n",
       "\n",
       "    .dataframe thead th {\n",
       "        text-align: right;\n",
       "    }\n",
       "</style>\n",
       "<table border=\"1\" class=\"dataframe\">\n",
       "  <thead>\n",
       "    <tr style=\"text-align: right;\">\n",
       "      <th></th>\n",
       "      <th>구</th>\n",
       "      <th>총합</th>\n",
       "    </tr>\n",
       "  </thead>\n",
       "  <tbody>\n",
       "    <tr>\n",
       "      <th>0</th>\n",
       "      <td>강남구</td>\n",
       "      <td>324045199</td>\n",
       "    </tr>\n",
       "    <tr>\n",
       "      <th>2</th>\n",
       "      <td>강서구</td>\n",
       "      <td>128036025</td>\n",
       "    </tr>\n",
       "    <tr>\n",
       "      <th>11</th>\n",
       "      <td>노원구</td>\n",
       "      <td>130213251</td>\n",
       "    </tr>\n",
       "    <tr>\n",
       "      <th>13</th>\n",
       "      <td>동작구</td>\n",
       "      <td>114474299</td>\n",
       "    </tr>\n",
       "    <tr>\n",
       "      <th>14</th>\n",
       "      <td>마포구</td>\n",
       "      <td>223305329</td>\n",
       "    </tr>\n",
       "    <tr>\n",
       "      <th>16</th>\n",
       "      <td>서초구</td>\n",
       "      <td>341425467</td>\n",
       "    </tr>\n",
       "    <tr>\n",
       "      <th>17</th>\n",
       "      <td>성동구</td>\n",
       "      <td>135300187</td>\n",
       "    </tr>\n",
       "    <tr>\n",
       "      <th>18</th>\n",
       "      <td>성북구</td>\n",
       "      <td>141905753</td>\n",
       "    </tr>\n",
       "    <tr>\n",
       "      <th>19</th>\n",
       "      <td>송파구</td>\n",
       "      <td>184148545</td>\n",
       "    </tr>\n",
       "    <tr>\n",
       "      <th>20</th>\n",
       "      <td>양천구</td>\n",
       "      <td>121845149</td>\n",
       "    </tr>\n",
       "    <tr>\n",
       "      <th>21</th>\n",
       "      <td>용산구</td>\n",
       "      <td>212742829</td>\n",
       "    </tr>\n",
       "    <tr>\n",
       "      <th>23</th>\n",
       "      <td>종로구</td>\n",
       "      <td>158205040</td>\n",
       "    </tr>\n",
       "    <tr>\n",
       "      <th>30</th>\n",
       "      <td>영등포구</td>\n",
       "      <td>258662532</td>\n",
       "    </tr>\n",
       "    <tr>\n",
       "      <th>31</th>\n",
       "      <td>중구</td>\n",
       "      <td>164525130</td>\n",
       "    </tr>\n",
       "  </tbody>\n",
       "</table>\n",
       "</div>"
      ],
      "text/plain": [
       "       구         총합\n",
       "0    강남구  324045199\n",
       "2    강서구  128036025\n",
       "11   노원구  130213251\n",
       "13   동작구  114474299\n",
       "14   마포구  223305329\n",
       "16   서초구  341425467\n",
       "17   성동구  135300187\n",
       "18   성북구  141905753\n",
       "19   송파구  184148545\n",
       "20   양천구  121845149\n",
       "21   용산구  212742829\n",
       "23   종로구  158205040\n",
       "30  영등포구  258662532\n",
       "31    중구  164525130"
      ]
     },
     "execution_count": 135,
     "metadata": {},
     "output_type": "execute_result"
    }
   ],
   "source": [
    "ddff_2019 = ddf_2019[ddf_2019[\"총합\"] > ddf_2019[\"총합\"].mean()]\n",
    "ddff_2019"
   ]
  },
  {
   "cell_type": "code",
   "execution_count": 136,
   "id": "polyphonic-briefs",
   "metadata": {},
   "outputs": [],
   "source": [
    "ddf_2020 = traffic_2020"
   ]
  },
  {
   "cell_type": "code",
   "execution_count": 137,
   "id": "headed-austria",
   "metadata": {},
   "outputs": [
    {
     "data": {
      "text/html": [
       "<div>\n",
       "<style scoped>\n",
       "    .dataframe tbody tr th:only-of-type {\n",
       "        vertical-align: middle;\n",
       "    }\n",
       "\n",
       "    .dataframe tbody tr th {\n",
       "        vertical-align: top;\n",
       "    }\n",
       "\n",
       "    .dataframe thead th {\n",
       "        text-align: right;\n",
       "    }\n",
       "</style>\n",
       "<table border=\"1\" class=\"dataframe\">\n",
       "  <thead>\n",
       "    <tr style=\"text-align: right;\">\n",
       "      <th></th>\n",
       "      <th>구</th>\n",
       "      <th>총합</th>\n",
       "    </tr>\n",
       "  </thead>\n",
       "  <tbody>\n",
       "    <tr>\n",
       "      <th>27</th>\n",
       "      <td>금천구</td>\n",
       "      <td>28356169</td>\n",
       "    </tr>\n",
       "    <tr>\n",
       "      <th>28</th>\n",
       "      <td>동대문구</td>\n",
       "      <td>49919679</td>\n",
       "    </tr>\n",
       "    <tr>\n",
       "      <th>29</th>\n",
       "      <td>서대문구</td>\n",
       "      <td>72687504</td>\n",
       "    </tr>\n",
       "    <tr>\n",
       "      <th>30</th>\n",
       "      <td>영등포구</td>\n",
       "      <td>226580316</td>\n",
       "    </tr>\n",
       "    <tr>\n",
       "      <th>31</th>\n",
       "      <td>중구</td>\n",
       "      <td>137745441</td>\n",
       "    </tr>\n",
       "  </tbody>\n",
       "</table>\n",
       "</div>"
      ],
      "text/plain": [
       "       구         총합\n",
       "27   금천구   28356169\n",
       "28  동대문구   49919679\n",
       "29  서대문구   72687504\n",
       "30  영등포구  226580316\n",
       "31    중구  137745441"
      ]
     },
     "execution_count": 137,
     "metadata": {},
     "output_type": "execute_result"
    }
   ],
   "source": [
    "ddf_2020 = ddf_2020.pivot_table(\"총합\",\"구\",aggfunc=np.sum)\n",
    "ddf_2020 = ddf_2020.reset_index()\n",
    "ddf_2020.tail()"
   ]
  },
  {
   "cell_type": "code",
   "execution_count": 138,
   "id": "progressive-rachel",
   "metadata": {},
   "outputs": [
    {
     "name": "stdout",
     "output_type": "stream",
     "text": [
      "2020년 평균 통행량 : 102510103 대\n"
     ]
    }
   ],
   "source": [
    "gein_tans_2020 = round(ddf_2020[\"총합\"].mean())\n",
    "print(\"2020년 평균 통행량 :\", gein_tans_2020,\"대\")"
   ]
  },
  {
   "cell_type": "code",
   "execution_count": 139,
   "id": "immediate-leadership",
   "metadata": {},
   "outputs": [
    {
     "data": {
      "text/html": [
       "<div>\n",
       "<style scoped>\n",
       "    .dataframe tbody tr th:only-of-type {\n",
       "        vertical-align: middle;\n",
       "    }\n",
       "\n",
       "    .dataframe tbody tr th {\n",
       "        vertical-align: top;\n",
       "    }\n",
       "\n",
       "    .dataframe thead th {\n",
       "        text-align: right;\n",
       "    }\n",
       "</style>\n",
       "<table border=\"1\" class=\"dataframe\">\n",
       "  <thead>\n",
       "    <tr style=\"text-align: right;\">\n",
       "      <th></th>\n",
       "      <th>구</th>\n",
       "      <th>총합</th>\n",
       "    </tr>\n",
       "  </thead>\n",
       "  <tbody>\n",
       "    <tr>\n",
       "      <th>0</th>\n",
       "      <td>강남구</td>\n",
       "      <td>294592122</td>\n",
       "    </tr>\n",
       "    <tr>\n",
       "      <th>2</th>\n",
       "      <td>강서구</td>\n",
       "      <td>128733424</td>\n",
       "    </tr>\n",
       "    <tr>\n",
       "      <th>11</th>\n",
       "      <td>노원구</td>\n",
       "      <td>124490761</td>\n",
       "    </tr>\n",
       "    <tr>\n",
       "      <th>13</th>\n",
       "      <td>동작구</td>\n",
       "      <td>109572681</td>\n",
       "    </tr>\n",
       "    <tr>\n",
       "      <th>14</th>\n",
       "      <td>마포구</td>\n",
       "      <td>220787222</td>\n",
       "    </tr>\n",
       "    <tr>\n",
       "      <th>16</th>\n",
       "      <td>서초구</td>\n",
       "      <td>322516550</td>\n",
       "    </tr>\n",
       "    <tr>\n",
       "      <th>17</th>\n",
       "      <td>성동구</td>\n",
       "      <td>143301660</td>\n",
       "    </tr>\n",
       "    <tr>\n",
       "      <th>18</th>\n",
       "      <td>성북구</td>\n",
       "      <td>133427860</td>\n",
       "    </tr>\n",
       "    <tr>\n",
       "      <th>19</th>\n",
       "      <td>송파구</td>\n",
       "      <td>166771016</td>\n",
       "    </tr>\n",
       "    <tr>\n",
       "      <th>20</th>\n",
       "      <td>양천구</td>\n",
       "      <td>115724129</td>\n",
       "    </tr>\n",
       "    <tr>\n",
       "      <th>21</th>\n",
       "      <td>용산구</td>\n",
       "      <td>204284926</td>\n",
       "    </tr>\n",
       "    <tr>\n",
       "      <th>23</th>\n",
       "      <td>종로구</td>\n",
       "      <td>146611263</td>\n",
       "    </tr>\n",
       "    <tr>\n",
       "      <th>30</th>\n",
       "      <td>영등포구</td>\n",
       "      <td>226580316</td>\n",
       "    </tr>\n",
       "    <tr>\n",
       "      <th>31</th>\n",
       "      <td>중구</td>\n",
       "      <td>137745441</td>\n",
       "    </tr>\n",
       "  </tbody>\n",
       "</table>\n",
       "</div>"
      ],
      "text/plain": [
       "       구         총합\n",
       "0    강남구  294592122\n",
       "2    강서구  128733424\n",
       "11   노원구  124490761\n",
       "13   동작구  109572681\n",
       "14   마포구  220787222\n",
       "16   서초구  322516550\n",
       "17   성동구  143301660\n",
       "18   성북구  133427860\n",
       "19   송파구  166771016\n",
       "20   양천구  115724129\n",
       "21   용산구  204284926\n",
       "23   종로구  146611263\n",
       "30  영등포구  226580316\n",
       "31    중구  137745441"
      ]
     },
     "execution_count": 139,
     "metadata": {},
     "output_type": "execute_result"
    }
   ],
   "source": [
    "ddff_2020 = ddf_2020[ddf_2020[\"총합\"] > ddf_2020[\"총합\"].mean()]\n",
    "ddff_2020"
   ]
  },
  {
   "cell_type": "code",
   "execution_count": 140,
   "id": "alpha-spare",
   "metadata": {
    "scrolled": true
   },
   "outputs": [
    {
     "data": {
      "image/png": "[encoded data removed]",
      "text/plain": [
       "<Figure size 1440x576 with 1 Axes>"
      ]
     },
     "metadata": {
      "image/png": {
       "height": 476,
       "width": 1151
      },
      "needs_background": "light"
     },
     "output_type": "display_data"
    }
   ],
   "source": [
    "plt.figure(figsize=(20, 8))\n",
    "plt.bar(ddf_2019[\"구\"], ddf_2019[\"총합\"])\n",
    "plt.bar(ddf_2020[\"구\"], ddf_2020[\"총합\"])\n",
    "\n",
    "#plt.legend()\n",
    "plt.axhline(y=gein_tans_2019, color='g', linewidth=1) #label=\"2019\")\n",
    "plt.axhline(y=gein_tans_2020, color='r', linewidth=1) #label=\"2020\")\n",
    "\n",
    "\n",
    "plt.show()\n"
   ]
  },
  {
   "cell_type": "code",
   "execution_count": 141,
   "id": "16f538bb",
   "metadata": {},
   "outputs": [
    {
     "name": "stderr",
     "output_type": "stream",
     "text": [
      "/Users/ijiyeong/opt/anaconda3/envs/jiyoung/lib/python3.7/site-packages/ipykernel_launcher.py:3: SettingWithCopyWarning: \n",
      "A value is trying to be set on a copy of a slice from a DataFrame.\n",
      "Try using .loc[row_indexer,col_indexer] = value instead\n",
      "\n",
      "See the caveats in the documentation: https://pandas.pydata.org/pandas-docs/stable/user_guide/indexing.html#returning-a-view-versus-a-copy\n",
      "  This is separate from the ipykernel package so we can avoid doing imports until\n",
      "/Users/ijiyeong/opt/anaconda3/envs/jiyoung/lib/python3.7/site-packages/ipykernel_launcher.py:4: SettingWithCopyWarning: \n",
      "A value is trying to be set on a copy of a slice from a DataFrame.\n",
      "Try using .loc[row_indexer,col_indexer] = value instead\n",
      "\n",
      "See the caveats in the documentation: https://pandas.pydata.org/pandas-docs/stable/user_guide/indexing.html#returning-a-view-versus-a-copy\n",
      "  after removing the cwd from sys.path.\n"
     ]
    },
    {
     "data": {
      "text/plain": [
       "<matplotlib.lines.Line2D at 0x7fcc8f3b73d0>"
      ]
     },
     "execution_count": 141,
     "metadata": {},
     "output_type": "execute_result"
    },
    {
     "data": {
      "image/png": "[encoded data removed]",
      "text/plain": [
       "<Figure size 1080x576 with 1 Axes>"
      ]
     },
     "metadata": {
      "image/png": {
       "height": 489,
       "width": 885
      },
      "needs_background": "light"
     },
     "output_type": "display_data"
    }
   ],
   "source": [
    "import seaborn as sns\n",
    "\n",
    "ddff_2019[\"연도\"] = 2019\n",
    "ddff_2020[\"연도\"] = 2020\n",
    "dddfff = pd.concat([ddff_2019, ddff_2020])\n",
    "\n",
    "x = dddfff[\"구\"]\n",
    "y = dddfff[\"총합\"]\n",
    "\n",
    "plt.figure(figsize =(15, 8))\n",
    "sns.barplot(x=x, y=y, hue=dddfff[\"연도\"])\n",
    "plt.axhline(y=gein_tans_2019, color='g', linewidth=2) #label=\"2019\"\n",
    "plt.axhline(y=gein_tans_2020, color='r', linewidth=2) #label=\"2020\""
   ]
  },
  {
   "cell_type": "code",
   "execution_count": null,
   "id": "5ddd033b",
   "metadata": {},
   "outputs": [],
   "source": []
  },
  {
   "cell_type": "code",
   "execution_count": null,
   "id": "d219bb0b",
   "metadata": {},
   "outputs": [],
   "source": []
  }
 ],
 "metadata": {
  "kernelspec": {
   "display_name": "Python 3",
   "language": "python",
   "name": "python3"
  },
  "language_info": {
   "codemirror_mode": {
    "name": "ipython",
    "version": 3
   },
   "file_extension": ".py",
   "mimetype": "text/x-python",
   "name": "python",
   "nbconvert_exporter": "python",
   "pygments_lexer": "ipython3",
   "version": "3.7.10"
  },
  "toc": {
   "base_numbering": 1,
   "nav_menu": {},
   "number_sections": true,
   "sideBar": true,
   "skip_h1_title": false,
   "title_cell": "Table of Contents",
   "title_sidebar": "Contents",
   "toc_cell": false,
   "toc_position": {
    "height": "calc(100% - 180px)",
    "left": "10px",
    "top": "150px",
    "width": "288px"
   },
   "toc_section_display": true,
   "toc_window_display": false
  }
 },
 "nbformat": 4,
 "nbformat_minor": 5
}
